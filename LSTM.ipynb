{
 "cells": [
  {
   "cell_type": "code",
   "execution_count": 53,
   "metadata": {},
   "outputs": [],
   "source": [
    "import math\n",
    "import pandas_datareader as wb\n",
    "import numpy as np\n",
    "import pandas as pd\n",
    "from sklearn.preprocessing import MinMaxScaler\n",
    "from keras.models import Sequential\n",
    "from keras.layers import Dense, LSTM\n",
    "import matplotlib.pyplot as plt"
   ]
  },
  {
   "cell_type": "code",
   "execution_count": 54,
   "metadata": {},
   "outputs": [
    {
     "data": {
      "text/html": [
       "<div>\n",
       "<style scoped>\n",
       "    .dataframe tbody tr th:only-of-type {\n",
       "        vertical-align: middle;\n",
       "    }\n",
       "\n",
       "    .dataframe tbody tr th {\n",
       "        vertical-align: top;\n",
       "    }\n",
       "\n",
       "    .dataframe thead th {\n",
       "        text-align: right;\n",
       "    }\n",
       "</style>\n",
       "<table border=\"1\" class=\"dataframe\">\n",
       "  <thead>\n",
       "    <tr style=\"text-align: right;\">\n",
       "      <th></th>\n",
       "      <th>Date</th>\n",
       "      <th>Open</th>\n",
       "      <th>High</th>\n",
       "      <th>Low</th>\n",
       "      <th>Close</th>\n",
       "      <th>Adj Close</th>\n",
       "      <th>Volume</th>\n",
       "    </tr>\n",
       "  </thead>\n",
       "  <tbody>\n",
       "    <tr>\n",
       "      <th>0</th>\n",
       "      <td>1970-01-02</td>\n",
       "      <td>5.633611</td>\n",
       "      <td>5.757882</td>\n",
       "      <td>5.633611</td>\n",
       "      <td>5.757882</td>\n",
       "      <td>0.751289</td>\n",
       "      <td>105900</td>\n",
       "    </tr>\n",
       "    <tr>\n",
       "      <th>1</th>\n",
       "      <td>1970-01-05</td>\n",
       "      <td>5.757882</td>\n",
       "      <td>5.799305</td>\n",
       "      <td>5.757882</td>\n",
       "      <td>5.799305</td>\n",
       "      <td>0.756695</td>\n",
       "      <td>136100</td>\n",
       "    </tr>\n",
       "    <tr>\n",
       "      <th>2</th>\n",
       "      <td>1970-01-06</td>\n",
       "      <td>5.799305</td>\n",
       "      <td>5.799305</td>\n",
       "      <td>5.675035</td>\n",
       "      <td>5.695746</td>\n",
       "      <td>0.743183</td>\n",
       "      <td>159500</td>\n",
       "    </tr>\n",
       "    <tr>\n",
       "      <th>3</th>\n",
       "      <td>1970-01-07</td>\n",
       "      <td>5.695746</td>\n",
       "      <td>5.778594</td>\n",
       "      <td>5.654323</td>\n",
       "      <td>5.757882</td>\n",
       "      <td>0.751289</td>\n",
       "      <td>119600</td>\n",
       "    </tr>\n",
       "    <tr>\n",
       "      <th>4</th>\n",
       "      <td>1970-01-08</td>\n",
       "      <td>5.778594</td>\n",
       "      <td>5.965000</td>\n",
       "      <td>5.778594</td>\n",
       "      <td>5.965000</td>\n",
       "      <td>0.778315</td>\n",
       "      <td>454900</td>\n",
       "    </tr>\n",
       "    <tr>\n",
       "      <th>...</th>\n",
       "      <td>...</td>\n",
       "      <td>...</td>\n",
       "      <td>...</td>\n",
       "      <td>...</td>\n",
       "      <td>...</td>\n",
       "      <td>...</td>\n",
       "      <td>...</td>\n",
       "    </tr>\n",
       "    <tr>\n",
       "      <th>12824</th>\n",
       "      <td>2020-11-02</td>\n",
       "      <td>3.980000</td>\n",
       "      <td>4.220000</td>\n",
       "      <td>3.860000</td>\n",
       "      <td>4.150000</td>\n",
       "      <td>4.150000</td>\n",
       "      <td>28883800</td>\n",
       "    </tr>\n",
       "    <tr>\n",
       "      <th>12825</th>\n",
       "      <td>2020-11-03</td>\n",
       "      <td>4.250000</td>\n",
       "      <td>4.300000</td>\n",
       "      <td>4.100000</td>\n",
       "      <td>4.140000</td>\n",
       "      <td>4.140000</td>\n",
       "      <td>27651100</td>\n",
       "    </tr>\n",
       "    <tr>\n",
       "      <th>12826</th>\n",
       "      <td>2020-11-04</td>\n",
       "      <td>4.120000</td>\n",
       "      <td>4.340000</td>\n",
       "      <td>4.000000</td>\n",
       "      <td>4.270000</td>\n",
       "      <td>4.270000</td>\n",
       "      <td>48596200</td>\n",
       "    </tr>\n",
       "    <tr>\n",
       "      <th>12827</th>\n",
       "      <td>2020-11-05</td>\n",
       "      <td>4.290000</td>\n",
       "      <td>4.510000</td>\n",
       "      <td>4.210000</td>\n",
       "      <td>4.290000</td>\n",
       "      <td>4.290000</td>\n",
       "      <td>51484400</td>\n",
       "    </tr>\n",
       "    <tr>\n",
       "      <th>12828</th>\n",
       "      <td>2020-11-06</td>\n",
       "      <td>4.260000</td>\n",
       "      <td>4.420000</td>\n",
       "      <td>4.100000</td>\n",
       "      <td>4.130000</td>\n",
       "      <td>4.130000</td>\n",
       "      <td>33383800</td>\n",
       "    </tr>\n",
       "  </tbody>\n",
       "</table>\n",
       "<p>12829 rows × 7 columns</p>\n",
       "</div>"
      ],
      "text/plain": [
       "             Date      Open      High       Low     Close  Adj Close    Volume\n",
       "0      1970-01-02  5.633611  5.757882  5.633611  5.757882   0.751289    105900\n",
       "1      1970-01-05  5.757882  5.799305  5.757882  5.799305   0.756695    136100\n",
       "2      1970-01-06  5.799305  5.799305  5.675035  5.695746   0.743183    159500\n",
       "3      1970-01-07  5.695746  5.778594  5.654323  5.757882   0.751289    119600\n",
       "4      1970-01-08  5.778594  5.965000  5.778594  5.965000   0.778315    454900\n",
       "...           ...       ...       ...       ...       ...        ...       ...\n",
       "12824  2020-11-02  3.980000  4.220000  3.860000  4.150000   4.150000  28883800\n",
       "12825  2020-11-03  4.250000  4.300000  4.100000  4.140000   4.140000  27651100\n",
       "12826  2020-11-04  4.120000  4.340000  4.000000  4.270000   4.270000  48596200\n",
       "12827  2020-11-05  4.290000  4.510000  4.210000  4.290000   4.290000  51484400\n",
       "12828  2020-11-06  4.260000  4.420000  4.100000  4.130000   4.130000  33383800\n",
       "\n",
       "[12829 rows x 7 columns]"
      ]
     },
     "execution_count": 54,
     "metadata": {},
     "output_type": "execute_result"
    }
   ],
   "source": [
    "df= pd.read_csv('/Users/kgirish/desktop/MRO.csv')\n",
    "df"
   ]
  },
  {
   "cell_type": "code",
   "execution_count": 55,
   "metadata": {},
   "outputs": [],
   "source": [
    "df1=df.reset_index()['Close']"
   ]
  },
  {
   "cell_type": "code",
   "execution_count": 56,
   "metadata": {},
   "outputs": [
    {
     "data": {
      "text/plain": [
       "0        5.757882\n",
       "1        5.799305\n",
       "2        5.695746\n",
       "3        5.757882\n",
       "4        5.965000\n",
       "           ...   \n",
       "12824    4.150000\n",
       "12825    4.140000\n",
       "12826    4.270000\n",
       "12827    4.290000\n",
       "12828    4.130000\n",
       "Name: Close, Length: 12829, dtype: float64"
      ]
     },
     "execution_count": 56,
     "metadata": {},
     "output_type": "execute_result"
    }
   ],
   "source": [
    "df1"
   ]
  },
  {
   "cell_type": "code",
   "execution_count": 57,
   "metadata": {},
   "outputs": [
    {
     "data": {
      "text/plain": [
       "[<matplotlib.lines.Line2D at 0x13cea9490>]"
      ]
     },
     "execution_count": 57,
     "metadata": {},
     "output_type": "execute_result"
    },
    {
     "data": {
      "image/png": "[encoded data removed]",
      "text/plain": [
       "<Figure size 432x288 with 1 Axes>"
      ]
     },
     "metadata": {
      "needs_background": "light"
     },
     "output_type": "display_data"
    }
   ],
   "source": [
    "import matplotlib.pyplot as plt\n",
    "plt.plot(df1)"
   ]
  },
  {
   "cell_type": "code",
   "execution_count": 58,
   "metadata": {},
   "outputs": [],
   "source": [
    "### LSTM are sensitive to the scale of the data. so we apply MinMax scaler"
   ]
  },
  {
   "cell_type": "code",
   "execution_count": 59,
   "metadata": {},
   "outputs": [
    {
     "data": {
      "text/plain": [
       "0        5.757882\n",
       "1        5.799305\n",
       "2        5.695746\n",
       "3        5.757882\n",
       "4        5.965000\n",
       "           ...   \n",
       "12824    4.150000\n",
       "12825    4.140000\n",
       "12826    4.270000\n",
       "12827    4.290000\n",
       "12828    4.130000\n",
       "Name: Close, Length: 12829, dtype: float64"
      ]
     },
     "execution_count": 59,
     "metadata": {},
     "output_type": "execute_result"
    }
   ],
   "source": [
    "df1"
   ]
  },
  {
   "cell_type": "code",
   "execution_count": 60,
   "metadata": {},
   "outputs": [],
   "source": [
    "from sklearn.preprocessing import MinMaxScaler\n",
    "scaler=MinMaxScaler(feature_range=(0,1))\n",
    "df1=scaler.fit_transform(np.array(df1).reshape(-1,1))"
   ]
  },
  {
   "cell_type": "code",
   "execution_count": 61,
   "metadata": {},
   "outputs": [
    {
     "name": "stdout",
     "output_type": "stream",
     "text": [
      "[[0.06839207]\n",
      " [0.06946604]\n",
      " [0.06678108]\n",
      " ...\n",
      " [0.02981592]\n",
      " [0.03033446]\n",
      " [0.02618616]]\n"
     ]
    }
   ],
   "source": [
    "print(df1)\n"
   ]
  },
  {
   "cell_type": "code",
   "execution_count": 62,
   "metadata": {},
   "outputs": [],
   "source": [
    "##splitting dataset into train and test split\n",
    "training_size=int(len(df1)*0.65)\n",
    "test_size=len(df1)-training_size\n",
    "train_data,test_data=df1[0:training_size,:],df1[training_size:len(df1),:1]"
   ]
  },
  {
   "cell_type": "code",
   "execution_count": 63,
   "metadata": {},
   "outputs": [
    {
     "data": {
      "text/plain": [
       "(8338, 4491)"
      ]
     },
     "execution_count": 63,
     "metadata": {},
     "output_type": "execute_result"
    }
   ],
   "source": [
    "training_size,test_size"
   ]
  },
  {
   "cell_type": "code",
   "execution_count": 64,
   "metadata": {},
   "outputs": [
    {
     "data": {
      "text/plain": [
       "array([[0.06839207],\n",
       "       [0.06946604],\n",
       "       [0.06678108],\n",
       "       ...,\n",
       "       [0.08551569],\n",
       "       [0.09177918],\n",
       "       [0.08451045]])"
      ]
     },
     "execution_count": 64,
     "metadata": {},
     "output_type": "execute_result"
    }
   ],
   "source": [
    "train_data"
   ]
  },
  {
   "cell_type": "code",
   "execution_count": 65,
   "metadata": {},
   "outputs": [],
   "source": [
    "import numpy\n",
    "# convert an array of values into a dataset matrix\n",
    "def create_dataset(dataset, time_step=1):\n",
    "\tdataX, dataY = [], []\n",
    "\tfor i in range(len(dataset)-time_step-1):\n",
    "\t\ta = dataset[i:(i+time_step), 0]   ###i=0, 0,1,2,3-----99   100 \n",
    "\t\tdataX.append(a)\n",
    "\t\tdataY.append(dataset[i + time_step, 0])\n",
    "\treturn numpy.array(dataX), numpy.array(dataY)"
   ]
  },
  {
   "cell_type": "code",
   "execution_count": 66,
   "metadata": {},
   "outputs": [],
   "source": [
    "# reshape into X=t,t+1,t+2,t+3 and Y=t+4\n",
    "time_step = 100\n",
    "X_train, y_train = create_dataset(train_data, time_step)\n",
    "X_test, y_test = create_dataset(test_data, time_step)"
   ]
  },
  {
   "cell_type": "code",
   "execution_count": 67,
   "metadata": {},
   "outputs": [
    {
     "name": "stdout",
     "output_type": "stream",
     "text": [
      "(8237, 100)\n",
      "(8237,)\n"
     ]
    },
    {
     "data": {
      "text/plain": [
       "(None, None)"
      ]
     },
     "execution_count": 67,
     "metadata": {},
     "output_type": "execute_result"
    }
   ],
   "source": [
    "print(X_train.shape), print(y_train.shape)"
   ]
  },
  {
   "cell_type": "code",
   "execution_count": 68,
   "metadata": {},
   "outputs": [
    {
     "name": "stdout",
     "output_type": "stream",
     "text": [
      "(4390, 100)\n",
      "(4390,)\n"
     ]
    },
    {
     "data": {
      "text/plain": [
       "(None, None)"
      ]
     },
     "execution_count": 68,
     "metadata": {},
     "output_type": "execute_result"
    }
   ],
   "source": [
    "print(X_test.shape), print(y_test.shape)"
   ]
  },
  {
   "cell_type": "code",
   "execution_count": 69,
   "metadata": {},
   "outputs": [],
   "source": [
    "# reshape input to be [samples, time steps, features] which is required for LSTM\n",
    "X_train =X_train.reshape(X_train.shape[0],X_train.shape[1] , 1)\n",
    "X_test = X_test.reshape(X_test.shape[0],X_test.shape[1] , 1)\n"
   ]
  },
  {
   "cell_type": "code",
   "execution_count": 70,
   "metadata": {},
   "outputs": [],
   "source": [
    "### Create the Stacked LSTM model\n",
    "from tensorflow.keras.models import Sequential\n",
    "from tensorflow.keras.layers import Dense\n",
    "from tensorflow.keras.layers import LSTM\n"
   ]
  },
  {
   "cell_type": "code",
   "execution_count": 71,
   "metadata": {},
   "outputs": [],
   "source": [
    "model=Sequential()\n",
    "model.add(LSTM(50,return_sequences=True,input_shape=(100,1)))\n",
    "model.add(LSTM(50,return_sequences=True))\n",
    "model.add(LSTM(50))\n",
    "model.add(Dense(1))\n",
    "model.compile(loss='mean_squared_error',optimizer='adam')"
   ]
  },
  {
   "cell_type": "code",
   "execution_count": 72,
   "metadata": {},
   "outputs": [
    {
     "name": "stdout",
     "output_type": "stream",
     "text": [
      "Model: \"sequential_1\"\n",
      "_________________________________________________________________\n",
      "Layer (type)                 Output Shape              Param #   \n",
      "=================================================================\n",
      "lstm_3 (LSTM)                (None, 100, 50)           10400     \n",
      "_________________________________________________________________\n",
      "lstm_4 (LSTM)                (None, 100, 50)           20200     \n",
      "_________________________________________________________________\n",
      "lstm_5 (LSTM)                (None, 50)                20200     \n",
      "_________________________________________________________________\n",
      "dense_1 (Dense)              (None, 1)                 51        \n",
      "=================================================================\n",
      "Total params: 50,851\n",
      "Trainable params: 50,851\n",
      "Non-trainable params: 0\n",
      "_________________________________________________________________\n"
     ]
    }
   ],
   "source": [
    "model.summary()\n"
   ]
  },
  {
   "cell_type": "code",
   "execution_count": 73,
   "metadata": {},
   "outputs": [
    {
     "name": "stdout",
     "output_type": "stream",
     "text": [
      "Model: \"sequential_1\"\n",
      "_________________________________________________________________\n",
      "Layer (type)                 Output Shape              Param #   \n",
      "=================================================================\n",
      "lstm_3 (LSTM)                (None, 100, 50)           10400     \n",
      "_________________________________________________________________\n",
      "lstm_4 (LSTM)                (None, 100, 50)           20200     \n",
      "_________________________________________________________________\n",
      "lstm_5 (LSTM)                (None, 50)                20200     \n",
      "_________________________________________________________________\n",
      "dense_1 (Dense)              (None, 1)                 51        \n",
      "=================================================================\n",
      "Total params: 50,851\n",
      "Trainable params: 50,851\n",
      "Non-trainable params: 0\n",
      "_________________________________________________________________\n"
     ]
    }
   ],
   "source": [
    "model.summary()"
   ]
  },
  {
   "cell_type": "code",
   "execution_count": 74,
   "metadata": {},
   "outputs": [
    {
     "name": "stdout",
     "output_type": "stream",
     "text": [
      "Epoch 1/100\n",
      "129/129 [==============================] - 27s 206ms/step - loss: 6.6603e-04 - val_loss: 0.0025\n",
      "Epoch 2/100\n",
      "129/129 [==============================] - 25s 194ms/step - loss: 8.7765e-05 - val_loss: 0.0016\n",
      "Epoch 3/100\n",
      "129/129 [==============================] - 25s 195ms/step - loss: 7.4455e-05 - val_loss: 0.0010\n",
      "Epoch 4/100\n",
      "129/129 [==============================] - 25s 195ms/step - loss: 6.9138e-05 - val_loss: 8.0411e-04\n",
      "Epoch 5/100\n",
      "129/129 [==============================] - 25s 197ms/step - loss: 6.3559e-05 - val_loss: 8.1445e-04\n",
      "Epoch 6/100\n",
      "129/129 [==============================] - 25s 196ms/step - loss: 5.6625e-05 - val_loss: 0.0012\n",
      "Epoch 7/100\n",
      "129/129 [==============================] - 25s 194ms/step - loss: 5.4264e-05 - val_loss: 7.4295e-04\n",
      "Epoch 8/100\n",
      "129/129 [==============================] - 25s 196ms/step - loss: 4.8620e-05 - val_loss: 5.8415e-04\n",
      "Epoch 9/100\n",
      "129/129 [==============================] - 25s 193ms/step - loss: 4.4315e-05 - val_loss: 6.1729e-04\n",
      "Epoch 10/100\n",
      "129/129 [==============================] - 25s 194ms/step - loss: 4.3587e-05 - val_loss: 5.5443e-04\n",
      "Epoch 11/100\n",
      "129/129 [==============================] - 25s 196ms/step - loss: 4.1552e-05 - val_loss: 4.9588e-04\n",
      "Epoch 12/100\n",
      "129/129 [==============================] - 25s 195ms/step - loss: 3.7574e-05 - val_loss: 4.0950e-04\n",
      "Epoch 13/100\n",
      "129/129 [==============================] - 25s 194ms/step - loss: 3.4191e-05 - val_loss: 4.0367e-04\n",
      "Epoch 14/100\n",
      "129/129 [==============================] - 25s 193ms/step - loss: 3.4192e-05 - val_loss: 3.6025e-04\n",
      "Epoch 15/100\n",
      "129/129 [==============================] - 25s 195ms/step - loss: 3.0798e-05 - val_loss: 3.6634e-04\n",
      "Epoch 16/100\n",
      "129/129 [==============================] - 27s 206ms/step - loss: 2.8981e-05 - val_loss: 2.8148e-04\n",
      "Epoch 17/100\n",
      "129/129 [==============================] - 113s 876ms/step - loss: 2.6655e-05 - val_loss: 3.2315e-04\n",
      "Epoch 18/100\n",
      "129/129 [==============================] - 26s 200ms/step - loss: 2.4294e-05 - val_loss: 4.3112e-04\n",
      "Epoch 19/100\n",
      "129/129 [==============================] - 26s 200ms/step - loss: 2.4442e-05 - val_loss: 2.2888e-04\n",
      "Epoch 20/100\n",
      "129/129 [==============================] - 26s 198ms/step - loss: 2.1621e-05 - val_loss: 2.1758e-04\n",
      "Epoch 21/100\n",
      "129/129 [==============================] - 25s 195ms/step - loss: 2.0932e-05 - val_loss: 2.3094e-04\n",
      "Epoch 22/100\n",
      "129/129 [==============================] - 26s 198ms/step - loss: 2.1184e-05 - val_loss: 2.0019e-04\n",
      "Epoch 23/100\n",
      "129/129 [==============================] - 26s 198ms/step - loss: 1.9098e-05 - val_loss: 2.8352e-04\n",
      "Epoch 24/100\n",
      "129/129 [==============================] - 26s 200ms/step - loss: 1.8770e-05 - val_loss: 2.3304e-04\n",
      "Epoch 25/100\n",
      "129/129 [==============================] - 25s 196ms/step - loss: 1.7730e-05 - val_loss: 2.5280e-04\n",
      "Epoch 26/100\n",
      "129/129 [==============================] - 25s 196ms/step - loss: 1.6745e-05 - val_loss: 1.8953e-04\n",
      "Epoch 27/100\n",
      "129/129 [==============================] - 25s 196ms/step - loss: 1.8210e-05 - val_loss: 1.9076e-04\n",
      "Epoch 28/100\n",
      "129/129 [==============================] - 25s 194ms/step - loss: 1.6083e-05 - val_loss: 2.0104e-04\n",
      "Epoch 29/100\n",
      "129/129 [==============================] - 25s 196ms/step - loss: 1.6541e-05 - val_loss: 2.7928e-04\n",
      "Epoch 30/100\n",
      "129/129 [==============================] - 25s 195ms/step - loss: 1.5338e-05 - val_loss: 2.5714e-04\n",
      "Epoch 31/100\n",
      "129/129 [==============================] - 26s 203ms/step - loss: 1.8773e-05 - val_loss: 3.1009e-04\n",
      "Epoch 32/100\n",
      "129/129 [==============================] - 2228s 17s/step - loss: 1.5721e-05 - val_loss: 2.9915e-04\n",
      "Epoch 33/100\n",
      "129/129 [==============================] - 27s 212ms/step - loss: 1.6509e-05 - val_loss: 2.4340e-04\n",
      "Epoch 34/100\n",
      "129/129 [==============================] - 8315s 64s/step - loss: 1.5585e-05 - val_loss: 2.5967e-04\n",
      "Epoch 35/100\n",
      "129/129 [==============================] - 26s 203ms/step - loss: 1.5695e-05 - val_loss: 2.7552e-04\n",
      "Epoch 36/100\n",
      "129/129 [==============================] - 25s 191ms/step - loss: 1.6868e-05 - val_loss: 3.4416e-04\n",
      "Epoch 37/100\n",
      "129/129 [==============================] - 26s 201ms/step - loss: 1.7003e-05 - val_loss: 5.4435e-04\n",
      "Epoch 38/100\n",
      "129/129 [==============================] - 25s 197ms/step - loss: 1.5791e-05 - val_loss: 4.2582e-04\n",
      "Epoch 39/100\n",
      "129/129 [==============================] - 25s 195ms/step - loss: 1.5079e-05 - val_loss: 3.3548e-04\n",
      "Epoch 40/100\n",
      "129/129 [==============================] - 25s 192ms/step - loss: 1.5852e-05 - val_loss: 3.1174e-04\n",
      "Epoch 41/100\n",
      "129/129 [==============================] - 25s 192ms/step - loss: 1.5062e-05 - val_loss: 2.8093e-04\n",
      "Epoch 42/100\n",
      "129/129 [==============================] - 25s 194ms/step - loss: 1.5113e-05 - val_loss: 2.5879e-04\n",
      "Epoch 43/100\n",
      "129/129 [==============================] - 31s 242ms/step - loss: 1.5111e-05 - val_loss: 3.6495e-04\n",
      "Epoch 44/100\n",
      "129/129 [==============================] - 29s 222ms/step - loss: 1.6472e-05 - val_loss: 2.9404e-04\n",
      "Epoch 45/100\n",
      "129/129 [==============================] - 28s 218ms/step - loss: 1.6109e-05 - val_loss: 4.0237e-04\n",
      "Epoch 46/100\n",
      "129/129 [==============================] - 28s 221ms/step - loss: 1.4576e-05 - val_loss: 2.6093e-04\n",
      "Epoch 47/100\n",
      "129/129 [==============================] - 29s 221ms/step - loss: 1.5358e-05 - val_loss: 2.9340e-04\n",
      "Epoch 48/100\n",
      "129/129 [==============================] - 28s 219ms/step - loss: 1.5804e-05 - val_loss: 2.4424e-04\n",
      "Epoch 49/100\n",
      "129/129 [==============================] - 28s 221ms/step - loss: 1.4875e-05 - val_loss: 2.6299e-04\n",
      "Epoch 50/100\n",
      "129/129 [==============================] - 28s 219ms/step - loss: 1.5422e-05 - val_loss: 2.7002e-04\n",
      "Epoch 51/100\n",
      "129/129 [==============================] - 29s 222ms/step - loss: 1.6079e-05 - val_loss: 4.8444e-04\n",
      "Epoch 52/100\n",
      "129/129 [==============================] - 28s 219ms/step - loss: 1.4679e-05 - val_loss: 2.8209e-04\n",
      "Epoch 53/100\n",
      "129/129 [==============================] - 28s 218ms/step - loss: 1.4853e-05 - val_loss: 2.7187e-04\n",
      "Epoch 54/100\n",
      "129/129 [==============================] - 28s 220ms/step - loss: 1.7417e-05 - val_loss: 2.6932e-04\n",
      "Epoch 55/100\n",
      "129/129 [==============================] - 29s 224ms/step - loss: 1.5095e-05 - val_loss: 2.5507e-04\n",
      "Epoch 56/100\n",
      "129/129 [==============================] - 28s 220ms/step - loss: 1.4501e-05 - val_loss: 2.3654e-04\n",
      "Epoch 57/100\n",
      "129/129 [==============================] - 28s 218ms/step - loss: 1.5914e-05 - val_loss: 5.8072e-04\n",
      "Epoch 58/100\n",
      "129/129 [==============================] - 29s 222ms/step - loss: 1.5482e-05 - val_loss: 3.1910e-04\n",
      "Epoch 59/100\n",
      "129/129 [==============================] - 28s 219ms/step - loss: 1.4794e-05 - val_loss: 2.2432e-04\n",
      "Epoch 60/100\n",
      "129/129 [==============================] - 29s 225ms/step - loss: 1.5540e-05 - val_loss: 3.7166e-04\n",
      "Epoch 61/100\n",
      "129/129 [==============================] - 26s 199ms/step - loss: 1.6700e-05 - val_loss: 2.7788e-04\n",
      "Epoch 62/100\n",
      "129/129 [==============================] - 25s 193ms/step - loss: 1.4646e-05 - val_loss: 2.2808e-04\n",
      "Epoch 63/100\n",
      "129/129 [==============================] - 25s 192ms/step - loss: 1.5091e-05 - val_loss: 3.3439e-04\n",
      "Epoch 64/100\n",
      "129/129 [==============================] - 25s 190ms/step - loss: 1.5476e-05 - val_loss: 2.3541e-04\n",
      "Epoch 65/100\n",
      "129/129 [==============================] - 25s 192ms/step - loss: 1.5127e-05 - val_loss: 2.5599e-04\n",
      "Epoch 66/100\n",
      "129/129 [==============================] - 28s 217ms/step - loss: 1.4474e-05 - val_loss: 3.1228e-04\n",
      "Epoch 67/100\n",
      "129/129 [==============================] - 30s 233ms/step - loss: 1.5109e-05 - val_loss: 2.4569e-04\n",
      "Epoch 68/100\n",
      "129/129 [==============================] - 27s 210ms/step - loss: 1.5826e-05 - val_loss: 2.9779e-04\n",
      "Epoch 69/100\n",
      "129/129 [==============================] - 29s 224ms/step - loss: 1.5948e-05 - val_loss: 2.3858e-04\n",
      "Epoch 70/100\n",
      "129/129 [==============================] - 29s 225ms/step - loss: 1.5094e-05 - val_loss: 4.9627e-04\n",
      "Epoch 71/100\n",
      "129/129 [==============================] - 28s 217ms/step - loss: 1.5526e-05 - val_loss: 2.6744e-04\n",
      "Epoch 72/100\n",
      "129/129 [==============================] - 29s 221ms/step - loss: 1.5172e-05 - val_loss: 4.6736e-04\n",
      "Epoch 73/100\n",
      "129/129 [==============================] - 29s 223ms/step - loss: 1.5006e-05 - val_loss: 2.3160e-04\n",
      "Epoch 74/100\n",
      "129/129 [==============================] - 29s 223ms/step - loss: 1.5071e-05 - val_loss: 2.8673e-04\n",
      "Epoch 75/100\n",
      "129/129 [==============================] - 28s 214ms/step - loss: 1.4765e-05 - val_loss: 4.9039e-04\n",
      "Epoch 76/100\n",
      "129/129 [==============================] - 27s 208ms/step - loss: 1.4888e-05 - val_loss: 2.4230e-04\n",
      "Epoch 77/100\n",
      "129/129 [==============================] - 31s 242ms/step - loss: 1.5241e-05 - val_loss: 6.1274e-04\n",
      "Epoch 78/100\n",
      "129/129 [==============================] - 28s 220ms/step - loss: 1.4808e-05 - val_loss: 5.7720e-04\n",
      "Epoch 79/100\n",
      "129/129 [==============================] - 27s 213ms/step - loss: 1.4475e-05 - val_loss: 2.6778e-04\n",
      "Epoch 80/100\n",
      "129/129 [==============================] - 30s 234ms/step - loss: 1.5313e-05 - val_loss: 3.5631e-04\n",
      "Epoch 81/100\n",
      "129/129 [==============================] - 30s 234ms/step - loss: 1.5883e-05 - val_loss: 3.6977e-04\n",
      "Epoch 82/100\n",
      "129/129 [==============================] - 30s 231ms/step - loss: 1.5152e-05 - val_loss: 2.9706e-04\n",
      "Epoch 83/100\n",
      "129/129 [==============================] - 30s 232ms/step - loss: 1.4939e-05 - val_loss: 5.4903e-04\n",
      "Epoch 84/100\n",
      "129/129 [==============================] - 30s 234ms/step - loss: 1.4978e-05 - val_loss: 3.0151e-04\n",
      "Epoch 85/100\n",
      "129/129 [==============================] - 29s 228ms/step - loss: 1.5710e-05 - val_loss: 5.4644e-04\n",
      "Epoch 86/100\n",
      "129/129 [==============================] - 29s 229ms/step - loss: 1.4311e-05 - val_loss: 3.7342e-04\n",
      "Epoch 87/100\n",
      "129/129 [==============================] - 30s 229ms/step - loss: 1.4160e-05 - val_loss: 2.4883e-04\n",
      "Epoch 88/100\n",
      "129/129 [==============================] - 32s 251ms/step - loss: 1.5185e-05 - val_loss: 3.6701e-04\n",
      "Epoch 89/100\n",
      "129/129 [==============================] - 29s 224ms/step - loss: 1.5272e-05 - val_loss: 3.0169e-04\n",
      "Epoch 90/100\n",
      "129/129 [==============================] - 31s 239ms/step - loss: 1.5731e-05 - val_loss: 3.4333e-04\n",
      "Epoch 91/100\n",
      "129/129 [==============================] - 29s 227ms/step - loss: 1.4806e-05 - val_loss: 5.1013e-04\n",
      "Epoch 92/100\n",
      "129/129 [==============================] - 28s 221ms/step - loss: 1.4566e-05 - val_loss: 3.0885e-04\n",
      "Epoch 93/100\n",
      "129/129 [==============================] - 29s 221ms/step - loss: 1.4842e-05 - val_loss: 7.1762e-04\n",
      "Epoch 94/100\n",
      "129/129 [==============================] - 29s 225ms/step - loss: 1.5353e-05 - val_loss: 4.1752e-04\n",
      "Epoch 95/100\n",
      "129/129 [==============================] - 29s 222ms/step - loss: 1.4790e-05 - val_loss: 2.8072e-04\n",
      "Epoch 96/100\n",
      "129/129 [==============================] - 29s 222ms/step - loss: 1.4746e-05 - val_loss: 4.3067e-04\n",
      "Epoch 97/100\n",
      "129/129 [==============================] - 29s 223ms/step - loss: 1.4701e-05 - val_loss: 5.6895e-04\n",
      "Epoch 98/100\n",
      "129/129 [==============================] - 29s 223ms/step - loss: 1.5141e-05 - val_loss: 5.9840e-04\n",
      "Epoch 99/100\n",
      "129/129 [==============================] - 28s 220ms/step - loss: 1.4658e-05 - val_loss: 5.9383e-04\n",
      "Epoch 100/100\n",
      "129/129 [==============================] - 29s 224ms/step - loss: 1.5724e-05 - val_loss: 3.7967e-04\n"
     ]
    },
    {
     "data": {
      "text/plain": [
       "<tensorflow.python.keras.callbacks.History at 0x13ebc3220>"
      ]
     },
     "execution_count": 74,
     "metadata": {},
     "output_type": "execute_result"
    }
   ],
   "source": [
    "model.fit(X_train,y_train,validation_data=(X_test,y_test),epochs=100,batch_size=64,verbose=1)"
   ]
  },
  {
   "cell_type": "code",
   "execution_count": 77,
   "metadata": {},
   "outputs": [],
   "source": [
    "train_predict=model.predict(X_train)\n",
    "test_predict=model.predict(X_test)"
   ]
  },
  {
   "cell_type": "code",
   "execution_count": 78,
   "metadata": {},
   "outputs": [],
   "source": [
    "##Transformback to original form\n",
    "train_predict=scaler.inverse_transform(train_predict)\n",
    "test_predict=scaler.inverse_transform(test_predict)"
   ]
  },
  {
   "cell_type": "code",
   "execution_count": 79,
   "metadata": {},
   "outputs": [
    {
     "data": {
      "text/plain": [
       "7.252106224383565"
      ]
     },
     "execution_count": 79,
     "metadata": {},
     "output_type": "execute_result"
    }
   ],
   "source": [
    "### Calculate RMSE performance metrics\n",
    "import math\n",
    "from sklearn.metrics import mean_squared_error\n",
    "math.sqrt(mean_squared_error(y_train,train_predict))"
   ]
  },
  {
   "cell_type": "code",
   "execution_count": 80,
   "metadata": {},
   "outputs": [
    {
     "data": {
      "text/plain": [
       "21.947937712338334"
      ]
     },
     "execution_count": 80,
     "metadata": {},
     "output_type": "execute_result"
    }
   ],
   "source": [
    "### Test Data RMSE\n",
    "math.sqrt(mean_squared_error(y_test,test_predict))"
   ]
  },
  {
   "cell_type": "code",
   "execution_count": 81,
   "metadata": {},
   "outputs": [
    {
     "data": {
      "image/png": "[encoded data removed]",
      "text/plain": [
       "<Figure size 432x288 with 1 Axes>"
      ]
     },
     "metadata": {
      "needs_background": "light"
     },
     "output_type": "display_data"
    }
   ],
   "source": [
    "# shift train predictions for plotting\n",
    "look_back=100\n",
    "trainPredictPlot = numpy.empty_like(df1)\n",
    "trainPredictPlot[:, :] = np.nan\n",
    "trainPredictPlot[look_back:len(train_predict)+look_back, :] = train_predict\n",
    "# shift test predictions for plotting\n",
    "testPredictPlot = numpy.empty_like(df1)\n",
    "testPredictPlot[:, :] = numpy.nan\n",
    "testPredictPlot[len(train_predict)+(look_back*2)+1:len(df1)-1, :] = test_predict\n",
    "# plot baseline and predictions\n",
    "plt.plot(scaler.inverse_transform(df1))\n",
    "plt.plot(trainPredictPlot, color= 'r')\n",
    "plt.plot(testPredictPlot, color = 'g')\n",
    "plt.xlabel('Days', fontsize =18)\n",
    "plt.ylabel('Close Price USD($)', fontsize = 18)\n",
    "plt.legend(['train data','train Predictions','test Predictions'], loc='upper left')\n",
    "plt.title('LSTM Model')\n",
    "plt.show()"
   ]
  },
  {
   "cell_type": "code",
   "execution_count": 82,
   "metadata": {},
   "outputs": [
    {
     "data": {
      "text/plain": [
       "4491"
      ]
     },
     "execution_count": 82,
     "metadata": {},
     "output_type": "execute_result"
    }
   ],
   "source": [
    "len(test_data)"
   ]
  },
  {
   "cell_type": "code",
   "execution_count": 87,
   "metadata": {},
   "outputs": [
    {
     "data": {
      "text/plain": [
       "(1, 100)"
      ]
     },
     "execution_count": 87,
     "metadata": {},
     "output_type": "execute_result"
    }
   ],
   "source": [
    "x_input=test_data[4391:].reshape(1,-1)\n",
    "x_input.shape"
   ]
  },
  {
   "cell_type": "code",
   "execution_count": 88,
   "metadata": {},
   "outputs": [],
   "source": [
    "temp_input=list(x_input)\n",
    "temp_input=temp_input[0].tolist()"
   ]
  },
  {
   "cell_type": "code",
   "execution_count": 89,
   "metadata": {},
   "outputs": [
    {
     "data": {
      "text/plain": [
       "[0.08737360869519338,\n",
       " 0.08400311340428089,\n",
       " 0.08166969358749528,\n",
       " 0.08322530679868569,\n",
       " 0.06922478789797219,\n",
       " 0.07415089640007509,\n",
       " 0.06792844355531354,\n",
       " 0.07363235866301161,\n",
       " 0.07778066055951934,\n",
       " 0.07337308979447989,\n",
       " 0.07778066055951934,\n",
       " 0.07103966997769433,\n",
       " 0.06352087279027412,\n",
       " 0.06611356147559143,\n",
       " 0.05574280673432218,\n",
       " 0.05781695768257601,\n",
       " 0.052113042574877935,\n",
       " 0.05833549541963949,\n",
       " 0.06663209921265491,\n",
       " 0.06740990581825008,\n",
       " 0.061965259579083734,\n",
       " 0.06144672184202028,\n",
       " 0.07103966997769433,\n",
       " 0.06922478789797219,\n",
       " 0.06844698129237699,\n",
       " 0.06740990581825008,\n",
       " 0.0650764860014645,\n",
       " 0.062483797316147185,\n",
       " 0.06792844355531354,\n",
       " 0.061965259579083734,\n",
       " 0.06144672184202028,\n",
       " 0.06222452844761546,\n",
       " 0.06896551902944047,\n",
       " 0.07415089640007509,\n",
       " 0.06637283034412315,\n",
       " 0.06792844355531354,\n",
       " 0.07570650961126547,\n",
       " 0.07311382092594816,\n",
       " 0.07415089640007509,\n",
       " 0.0718174765832895,\n",
       " 0.0759657784797972,\n",
       " 0.07259528318888471,\n",
       " 0.07337308979447989,\n",
       " 0.06766917468678181,\n",
       " 0.061965259579083734,\n",
       " 0.05574280673432218,\n",
       " 0.06040964636789335,\n",
       " 0.06144672184202028,\n",
       " 0.05652061333991738,\n",
       " 0.058076226551107765,\n",
       " 0.05885403315670294,\n",
       " 0.05600207560285393,\n",
       " 0.057039151076980835,\n",
       " 0.05185377370634621,\n",
       " 0.04848327841543372,\n",
       " 0.04692766520424331,\n",
       " 0.03577910385737888,\n",
       " 0.03681617933150581,\n",
       " 0.03214933969793467,\n",
       " 0.03500129725178369,\n",
       " 0.033186415172061584,\n",
       " 0.03163080196087119,\n",
       " 0.037334717068569265,\n",
       " 0.04044594349095004,\n",
       " 0.044075707650394286,\n",
       " 0.037334717068569265,\n",
       " 0.03500129725178369,\n",
       " 0.028260306669958685,\n",
       " 0.030852995355275983,\n",
       " 0.026445424590236563,\n",
       " 0.030334457618212532,\n",
       " 0.02696396232730003,\n",
       " 0.025149080247577907,\n",
       " 0.021519316088133678,\n",
       " 0.02592688685317311,\n",
       " 0.028778844407022164,\n",
       " 0.023852735904919264,\n",
       " 0.026186155721704837,\n",
       " 0.03266787743499812,\n",
       " 0.02955665101261734,\n",
       " 0.030334457618212532,\n",
       " 0.028778844407022164,\n",
       " 0.02800103780142696,\n",
       " 0.029815919881149067,\n",
       " 0.024630542510514455,\n",
       " 0.02229712269372887,\n",
       " 0.026704693458768303,\n",
       " 0.025408349116109633,\n",
       " 0.03240860856646639,\n",
       " 0.034223490646188515,\n",
       " 0.026186155721704837,\n",
       " 0.026186155721704837,\n",
       " 0.018926627402816365,\n",
       " 0.022556391562260608,\n",
       " 0.021778584956665403,\n",
       " 0.026704693458768303,\n",
       " 0.026445424590236563,\n",
       " 0.029815919881149067,\n",
       " 0.030334457618212532,\n",
       " 0.026186155721704837]"
      ]
     },
     "execution_count": 89,
     "metadata": {},
     "output_type": "execute_result"
    }
   ],
   "source": [
    "temp_input"
   ]
  },
  {
   "cell_type": "code",
   "execution_count": 90,
   "metadata": {},
   "outputs": [
    {
     "name": "stdout",
     "output_type": "stream",
     "text": [
      "[0.02535255]\n",
      "101\n",
      "1 day input [0.08400311 0.08166969 0.08322531 0.06922479 0.0741509  0.06792844\n",
      " 0.07363236 0.07778066 0.07337309 0.07778066 0.07103967 0.06352087\n",
      " 0.06611356 0.05574281 0.05781696 0.05211304 0.0583355  0.0666321\n",
      " 0.06740991 0.06196526 0.06144672 0.07103967 0.06922479 0.06844698\n",
      " 0.06740991 0.06507649 0.0624838  0.06792844 0.06196526 0.06144672\n",
      " 0.06222453 0.06896552 0.0741509  0.06637283 0.06792844 0.07570651\n",
      " 0.07311382 0.0741509  0.07181748 0.07596578 0.07259528 0.07337309\n",
      " 0.06766917 0.06196526 0.05574281 0.06040965 0.06144672 0.05652061\n",
      " 0.05807623 0.05885403 0.05600208 0.05703915 0.05185377 0.04848328\n",
      " 0.04692767 0.0357791  0.03681618 0.03214934 0.0350013  0.03318642\n",
      " 0.0316308  0.03733472 0.04044594 0.04407571 0.03733472 0.0350013\n",
      " 0.02826031 0.030853   0.02644542 0.03033446 0.02696396 0.02514908\n",
      " 0.02151932 0.02592689 0.02877884 0.02385274 0.02618616 0.03266788\n",
      " 0.02955665 0.03033446 0.02877884 0.02800104 0.02981592 0.02463054\n",
      " 0.02229712 0.02670469 0.02540835 0.03240861 0.03422349 0.02618616\n",
      " 0.02618616 0.01892663 0.02255639 0.02177858 0.02670469 0.02644542\n",
      " 0.02981592 0.03033446 0.02618616 0.02535255]\n",
      "1 day output [[0.02457076]]\n",
      "2 day input [0.08166969 0.08322531 0.06922479 0.0741509  0.06792844 0.07363236\n",
      " 0.07778066 0.07337309 0.07778066 0.07103967 0.06352087 0.06611356\n",
      " 0.05574281 0.05781696 0.05211304 0.0583355  0.0666321  0.06740991\n",
      " 0.06196526 0.06144672 0.07103967 0.06922479 0.06844698 0.06740991\n",
      " 0.06507649 0.0624838  0.06792844 0.06196526 0.06144672 0.06222453\n",
      " 0.06896552 0.0741509  0.06637283 0.06792844 0.07570651 0.07311382\n",
      " 0.0741509  0.07181748 0.07596578 0.07259528 0.07337309 0.06766917\n",
      " 0.06196526 0.05574281 0.06040965 0.06144672 0.05652061 0.05807623\n",
      " 0.05885403 0.05600208 0.05703915 0.05185377 0.04848328 0.04692767\n",
      " 0.0357791  0.03681618 0.03214934 0.0350013  0.03318642 0.0316308\n",
      " 0.03733472 0.04044594 0.04407571 0.03733472 0.0350013  0.02826031\n",
      " 0.030853   0.02644542 0.03033446 0.02696396 0.02514908 0.02151932\n",
      " 0.02592689 0.02877884 0.02385274 0.02618616 0.03266788 0.02955665\n",
      " 0.03033446 0.02877884 0.02800104 0.02981592 0.02463054 0.02229712\n",
      " 0.02670469 0.02540835 0.03240861 0.03422349 0.02618616 0.02618616\n",
      " 0.01892663 0.02255639 0.02177858 0.02670469 0.02644542 0.02981592\n",
      " 0.03033446 0.02618616 0.02535255 0.02457076]\n",
      "2 day output [[0.02383246]]\n",
      "3 day input [0.08322531 0.06922479 0.0741509  0.06792844 0.07363236 0.07778066\n",
      " 0.07337309 0.07778066 0.07103967 0.06352087 0.06611356 0.05574281\n",
      " 0.05781696 0.05211304 0.0583355  0.0666321  0.06740991 0.06196526\n",
      " 0.06144672 0.07103967 0.06922479 0.06844698 0.06740991 0.06507649\n",
      " 0.0624838  0.06792844 0.06196526 0.06144672 0.06222453 0.06896552\n",
      " 0.0741509  0.06637283 0.06792844 0.07570651 0.07311382 0.0741509\n",
      " 0.07181748 0.07596578 0.07259528 0.07337309 0.06766917 0.06196526\n",
      " 0.05574281 0.06040965 0.06144672 0.05652061 0.05807623 0.05885403\n",
      " 0.05600208 0.05703915 0.05185377 0.04848328 0.04692767 0.0357791\n",
      " 0.03681618 0.03214934 0.0350013  0.03318642 0.0316308  0.03733472\n",
      " 0.04044594 0.04407571 0.03733472 0.0350013  0.02826031 0.030853\n",
      " 0.02644542 0.03033446 0.02696396 0.02514908 0.02151932 0.02592689\n",
      " 0.02877884 0.02385274 0.02618616 0.03266788 0.02955665 0.03033446\n",
      " 0.02877884 0.02800104 0.02981592 0.02463054 0.02229712 0.02670469\n",
      " 0.02540835 0.03240861 0.03422349 0.02618616 0.02618616 0.01892663\n",
      " 0.02255639 0.02177858 0.02670469 0.02644542 0.02981592 0.03033446\n",
      " 0.02618616 0.02535255 0.02457076 0.02383246]\n",
      "3 day output [[0.02315111]]\n",
      "4 day input [0.06922479 0.0741509  0.06792844 0.07363236 0.07778066 0.07337309\n",
      " 0.07778066 0.07103967 0.06352087 0.06611356 0.05574281 0.05781696\n",
      " 0.05211304 0.0583355  0.0666321  0.06740991 0.06196526 0.06144672\n",
      " 0.07103967 0.06922479 0.06844698 0.06740991 0.06507649 0.0624838\n",
      " 0.06792844 0.06196526 0.06144672 0.06222453 0.06896552 0.0741509\n",
      " 0.06637283 0.06792844 0.07570651 0.07311382 0.0741509  0.07181748\n",
      " 0.07596578 0.07259528 0.07337309 0.06766917 0.06196526 0.05574281\n",
      " 0.06040965 0.06144672 0.05652061 0.05807623 0.05885403 0.05600208\n",
      " 0.05703915 0.05185377 0.04848328 0.04692767 0.0357791  0.03681618\n",
      " 0.03214934 0.0350013  0.03318642 0.0316308  0.03733472 0.04044594\n",
      " 0.04407571 0.03733472 0.0350013  0.02826031 0.030853   0.02644542\n",
      " 0.03033446 0.02696396 0.02514908 0.02151932 0.02592689 0.02877884\n",
      " 0.02385274 0.02618616 0.03266788 0.02955665 0.03033446 0.02877884\n",
      " 0.02800104 0.02981592 0.02463054 0.02229712 0.02670469 0.02540835\n",
      " 0.03240861 0.03422349 0.02618616 0.02618616 0.01892663 0.02255639\n",
      " 0.02177858 0.02670469 0.02644542 0.02981592 0.03033446 0.02618616\n",
      " 0.02535255 0.02457076 0.02383246 0.02315111]\n",
      "4 day output [[0.02246431]]\n",
      "5 day input [0.0741509  0.06792844 0.07363236 0.07778066 0.07337309 0.07778066\n",
      " 0.07103967 0.06352087 0.06611356 0.05574281 0.05781696 0.05211304\n",
      " 0.0583355  0.0666321  0.06740991 0.06196526 0.06144672 0.07103967\n",
      " 0.06922479 0.06844698 0.06740991 0.06507649 0.0624838  0.06792844\n",
      " 0.06196526 0.06144672 0.06222453 0.06896552 0.0741509  0.06637283\n",
      " 0.06792844 0.07570651 0.07311382 0.0741509  0.07181748 0.07596578\n",
      " 0.07259528 0.07337309 0.06766917 0.06196526 0.05574281 0.06040965\n",
      " 0.06144672 0.05652061 0.05807623 0.05885403 0.05600208 0.05703915\n",
      " 0.05185377 0.04848328 0.04692767 0.0357791  0.03681618 0.03214934\n",
      " 0.0350013  0.03318642 0.0316308  0.03733472 0.04044594 0.04407571\n",
      " 0.03733472 0.0350013  0.02826031 0.030853   0.02644542 0.03033446\n",
      " 0.02696396 0.02514908 0.02151932 0.02592689 0.02877884 0.02385274\n",
      " 0.02618616 0.03266788 0.02955665 0.03033446 0.02877884 0.02800104\n",
      " 0.02981592 0.02463054 0.02229712 0.02670469 0.02540835 0.03240861\n",
      " 0.03422349 0.02618616 0.02618616 0.01892663 0.02255639 0.02177858\n",
      " 0.02670469 0.02644542 0.02981592 0.03033446 0.02618616 0.02535255\n",
      " 0.02457076 0.02383246 0.02315111 0.02246431]\n",
      "5 day output [[0.02176322]]\n",
      "6 day input [0.06792844 0.07363236 0.07778066 0.07337309 0.07778066 0.07103967\n",
      " 0.06352087 0.06611356 0.05574281 0.05781696 0.05211304 0.0583355\n",
      " 0.0666321  0.06740991 0.06196526 0.06144672 0.07103967 0.06922479\n",
      " 0.06844698 0.06740991 0.06507649 0.0624838  0.06792844 0.06196526\n",
      " 0.06144672 0.06222453 0.06896552 0.0741509  0.06637283 0.06792844\n",
      " 0.07570651 0.07311382 0.0741509  0.07181748 0.07596578 0.07259528\n",
      " 0.07337309 0.06766917 0.06196526 0.05574281 0.06040965 0.06144672\n",
      " 0.05652061 0.05807623 0.05885403 0.05600208 0.05703915 0.05185377\n",
      " 0.04848328 0.04692767 0.0357791  0.03681618 0.03214934 0.0350013\n",
      " 0.03318642 0.0316308  0.03733472 0.04044594 0.04407571 0.03733472\n",
      " 0.0350013  0.02826031 0.030853   0.02644542 0.03033446 0.02696396\n",
      " 0.02514908 0.02151932 0.02592689 0.02877884 0.02385274 0.02618616\n",
      " 0.03266788 0.02955665 0.03033446 0.02877884 0.02800104 0.02981592\n",
      " 0.02463054 0.02229712 0.02670469 0.02540835 0.03240861 0.03422349\n",
      " 0.02618616 0.02618616 0.01892663 0.02255639 0.02177858 0.02670469\n",
      " 0.02644542 0.02981592 0.03033446 0.02618616 0.02535255 0.02457076\n",
      " 0.02383246 0.02315111 0.02246431 0.02176322]\n",
      "6 day output [[0.0210531]]\n",
      "7 day input [0.07363236 0.07778066 0.07337309 0.07778066 0.07103967 0.06352087\n",
      " 0.06611356 0.05574281 0.05781696 0.05211304 0.0583355  0.0666321\n",
      " 0.06740991 0.06196526 0.06144672 0.07103967 0.06922479 0.06844698\n",
      " 0.06740991 0.06507649 0.0624838  0.06792844 0.06196526 0.06144672\n",
      " 0.06222453 0.06896552 0.0741509  0.06637283 0.06792844 0.07570651\n",
      " 0.07311382 0.0741509  0.07181748 0.07596578 0.07259528 0.07337309\n",
      " 0.06766917 0.06196526 0.05574281 0.06040965 0.06144672 0.05652061\n",
      " 0.05807623 0.05885403 0.05600208 0.05703915 0.05185377 0.04848328\n",
      " 0.04692767 0.0357791  0.03681618 0.03214934 0.0350013  0.03318642\n",
      " 0.0316308  0.03733472 0.04044594 0.04407571 0.03733472 0.0350013\n",
      " 0.02826031 0.030853   0.02644542 0.03033446 0.02696396 0.02514908\n",
      " 0.02151932 0.02592689 0.02877884 0.02385274 0.02618616 0.03266788\n",
      " 0.02955665 0.03033446 0.02877884 0.02800104 0.02981592 0.02463054\n",
      " 0.02229712 0.02670469 0.02540835 0.03240861 0.03422349 0.02618616\n",
      " 0.02618616 0.01892663 0.02255639 0.02177858 0.02670469 0.02644542\n",
      " 0.02981592 0.03033446 0.02618616 0.02535255 0.02457076 0.02383246\n",
      " 0.02315111 0.02246431 0.02176322 0.0210531 ]\n",
      "7 day output [[0.0203421]]\n",
      "8 day input [0.07778066 0.07337309 0.07778066 0.07103967 0.06352087 0.06611356\n",
      " 0.05574281 0.05781696 0.05211304 0.0583355  0.0666321  0.06740991\n",
      " 0.06196526 0.06144672 0.07103967 0.06922479 0.06844698 0.06740991\n",
      " 0.06507649 0.0624838  0.06792844 0.06196526 0.06144672 0.06222453\n",
      " 0.06896552 0.0741509  0.06637283 0.06792844 0.07570651 0.07311382\n",
      " 0.0741509  0.07181748 0.07596578 0.07259528 0.07337309 0.06766917\n",
      " 0.06196526 0.05574281 0.06040965 0.06144672 0.05652061 0.05807623\n",
      " 0.05885403 0.05600208 0.05703915 0.05185377 0.04848328 0.04692767\n",
      " 0.0357791  0.03681618 0.03214934 0.0350013  0.03318642 0.0316308\n",
      " 0.03733472 0.04044594 0.04407571 0.03733472 0.0350013  0.02826031\n",
      " 0.030853   0.02644542 0.03033446 0.02696396 0.02514908 0.02151932\n",
      " 0.02592689 0.02877884 0.02385274 0.02618616 0.03266788 0.02955665\n",
      " 0.03033446 0.02877884 0.02800104 0.02981592 0.02463054 0.02229712\n",
      " 0.02670469 0.02540835 0.03240861 0.03422349 0.02618616 0.02618616\n",
      " 0.01892663 0.02255639 0.02177858 0.02670469 0.02644542 0.02981592\n",
      " 0.03033446 0.02618616 0.02535255 0.02457076 0.02383246 0.02315111\n",
      " 0.02246431 0.02176322 0.0210531  0.0203421 ]\n",
      "8 day output [[0.01963596]]\n",
      "9 day input [0.07337309 0.07778066 0.07103967 0.06352087 0.06611356 0.05574281\n",
      " 0.05781696 0.05211304 0.0583355  0.0666321  0.06740991 0.06196526\n",
      " 0.06144672 0.07103967 0.06922479 0.06844698 0.06740991 0.06507649\n",
      " 0.0624838  0.06792844 0.06196526 0.06144672 0.06222453 0.06896552\n",
      " 0.0741509  0.06637283 0.06792844 0.07570651 0.07311382 0.0741509\n",
      " 0.07181748 0.07596578 0.07259528 0.07337309 0.06766917 0.06196526\n",
      " 0.05574281 0.06040965 0.06144672 0.05652061 0.05807623 0.05885403\n",
      " 0.05600208 0.05703915 0.05185377 0.04848328 0.04692767 0.0357791\n",
      " 0.03681618 0.03214934 0.0350013  0.03318642 0.0316308  0.03733472\n",
      " 0.04044594 0.04407571 0.03733472 0.0350013  0.02826031 0.030853\n",
      " 0.02644542 0.03033446 0.02696396 0.02514908 0.02151932 0.02592689\n",
      " 0.02877884 0.02385274 0.02618616 0.03266788 0.02955665 0.03033446\n",
      " 0.02877884 0.02800104 0.02981592 0.02463054 0.02229712 0.02670469\n",
      " 0.02540835 0.03240861 0.03422349 0.02618616 0.02618616 0.01892663\n",
      " 0.02255639 0.02177858 0.02670469 0.02644542 0.02981592 0.03033446\n",
      " 0.02618616 0.02535255 0.02457076 0.02383246 0.02315111 0.02246431\n",
      " 0.02176322 0.0210531  0.0203421  0.01963596]\n",
      "9 day output [[0.01893722]]\n",
      "10 day input [0.07778066 0.07103967 0.06352087 0.06611356 0.05574281 0.05781696\n",
      " 0.05211304 0.0583355  0.0666321  0.06740991 0.06196526 0.06144672\n",
      " 0.07103967 0.06922479 0.06844698 0.06740991 0.06507649 0.0624838\n",
      " 0.06792844 0.06196526 0.06144672 0.06222453 0.06896552 0.0741509\n",
      " 0.06637283 0.06792844 0.07570651 0.07311382 0.0741509  0.07181748\n",
      " 0.07596578 0.07259528 0.07337309 0.06766917 0.06196526 0.05574281\n",
      " 0.06040965 0.06144672 0.05652061 0.05807623 0.05885403 0.05600208\n",
      " 0.05703915 0.05185377 0.04848328 0.04692767 0.0357791  0.03681618\n",
      " 0.03214934 0.0350013  0.03318642 0.0316308  0.03733472 0.04044594\n",
      " 0.04407571 0.03733472 0.0350013  0.02826031 0.030853   0.02644542\n",
      " 0.03033446 0.02696396 0.02514908 0.02151932 0.02592689 0.02877884\n",
      " 0.02385274 0.02618616 0.03266788 0.02955665 0.03033446 0.02877884\n",
      " 0.02800104 0.02981592 0.02463054 0.02229712 0.02670469 0.02540835\n",
      " 0.03240861 0.03422349 0.02618616 0.02618616 0.01892663 0.02255639\n",
      " 0.02177858 0.02670469 0.02644542 0.02981592 0.03033446 0.02618616\n",
      " 0.02535255 0.02457076 0.02383246 0.02315111 0.02246431 0.02176322\n",
      " 0.0210531  0.0203421  0.01963596 0.01893722]\n",
      "10 day output [[0.0182461]]\n",
      "11 day input [0.07103967 0.06352087 0.06611356 0.05574281 0.05781696 0.05211304\n",
      " 0.0583355  0.0666321  0.06740991 0.06196526 0.06144672 0.07103967\n",
      " 0.06922479 0.06844698 0.06740991 0.06507649 0.0624838  0.06792844\n",
      " 0.06196526 0.06144672 0.06222453 0.06896552 0.0741509  0.06637283\n",
      " 0.06792844 0.07570651 0.07311382 0.0741509  0.07181748 0.07596578\n",
      " 0.07259528 0.07337309 0.06766917 0.06196526 0.05574281 0.06040965\n",
      " 0.06144672 0.05652061 0.05807623 0.05885403 0.05600208 0.05703915\n",
      " 0.05185377 0.04848328 0.04692767 0.0357791  0.03681618 0.03214934\n",
      " 0.0350013  0.03318642 0.0316308  0.03733472 0.04044594 0.04407571\n",
      " 0.03733472 0.0350013  0.02826031 0.030853   0.02644542 0.03033446\n",
      " 0.02696396 0.02514908 0.02151932 0.02592689 0.02877884 0.02385274\n",
      " 0.02618616 0.03266788 0.02955665 0.03033446 0.02877884 0.02800104\n",
      " 0.02981592 0.02463054 0.02229712 0.02670469 0.02540835 0.03240861\n",
      " 0.03422349 0.02618616 0.02618616 0.01892663 0.02255639 0.02177858\n",
      " 0.02670469 0.02644542 0.02981592 0.03033446 0.02618616 0.02535255\n",
      " 0.02457076 0.02383246 0.02315111 0.02246431 0.02176322 0.0210531\n",
      " 0.0203421  0.01963596 0.01893722 0.0182461 ]\n",
      "11 day output [[0.01756184]]\n",
      "12 day input [0.06352087 0.06611356 0.05574281 0.05781696 0.05211304 0.0583355\n",
      " 0.0666321  0.06740991 0.06196526 0.06144672 0.07103967 0.06922479\n",
      " 0.06844698 0.06740991 0.06507649 0.0624838  0.06792844 0.06196526\n",
      " 0.06144672 0.06222453 0.06896552 0.0741509  0.06637283 0.06792844\n",
      " 0.07570651 0.07311382 0.0741509  0.07181748 0.07596578 0.07259528\n",
      " 0.07337309 0.06766917 0.06196526 0.05574281 0.06040965 0.06144672\n",
      " 0.05652061 0.05807623 0.05885403 0.05600208 0.05703915 0.05185377\n",
      " 0.04848328 0.04692767 0.0357791  0.03681618 0.03214934 0.0350013\n",
      " 0.03318642 0.0316308  0.03733472 0.04044594 0.04407571 0.03733472\n",
      " 0.0350013  0.02826031 0.030853   0.02644542 0.03033446 0.02696396\n",
      " 0.02514908 0.02151932 0.02592689 0.02877884 0.02385274 0.02618616\n",
      " 0.03266788 0.02955665 0.03033446 0.02877884 0.02800104 0.02981592\n",
      " 0.02463054 0.02229712 0.02670469 0.02540835 0.03240861 0.03422349\n",
      " 0.02618616 0.02618616 0.01892663 0.02255639 0.02177858 0.02670469\n",
      " 0.02644542 0.02981592 0.03033446 0.02618616 0.02535255 0.02457076\n",
      " 0.02383246 0.02315111 0.02246431 0.02176322 0.0210531  0.0203421\n",
      " 0.01963596 0.01893722 0.0182461  0.01756184]\n",
      "12 day output [[0.0168833]]\n",
      "13 day input [0.06611356 0.05574281 0.05781696 0.05211304 0.0583355  0.0666321\n",
      " 0.06740991 0.06196526 0.06144672 0.07103967 0.06922479 0.06844698\n",
      " 0.06740991 0.06507649 0.0624838  0.06792844 0.06196526 0.06144672\n",
      " 0.06222453 0.06896552 0.0741509  0.06637283 0.06792844 0.07570651\n",
      " 0.07311382 0.0741509  0.07181748 0.07596578 0.07259528 0.07337309\n",
      " 0.06766917 0.06196526 0.05574281 0.06040965 0.06144672 0.05652061\n",
      " 0.05807623 0.05885403 0.05600208 0.05703915 0.05185377 0.04848328\n",
      " 0.04692767 0.0357791  0.03681618 0.03214934 0.0350013  0.03318642\n",
      " 0.0316308  0.03733472 0.04044594 0.04407571 0.03733472 0.0350013\n",
      " 0.02826031 0.030853   0.02644542 0.03033446 0.02696396 0.02514908\n",
      " 0.02151932 0.02592689 0.02877884 0.02385274 0.02618616 0.03266788\n",
      " 0.02955665 0.03033446 0.02877884 0.02800104 0.02981592 0.02463054\n",
      " 0.02229712 0.02670469 0.02540835 0.03240861 0.03422349 0.02618616\n",
      " 0.02618616 0.01892663 0.02255639 0.02177858 0.02670469 0.02644542\n",
      " 0.02981592 0.03033446 0.02618616 0.02535255 0.02457076 0.02383246\n",
      " 0.02315111 0.02246431 0.02176322 0.0210531  0.0203421  0.01963596\n",
      " 0.01893722 0.0182461  0.01756184 0.0168833 ]\n",
      "13 day output [[0.01620961]]\n",
      "14 day input [0.05574281 0.05781696 0.05211304 0.0583355  0.0666321  0.06740991\n",
      " 0.06196526 0.06144672 0.07103967 0.06922479 0.06844698 0.06740991\n",
      " 0.06507649 0.0624838  0.06792844 0.06196526 0.06144672 0.06222453\n",
      " 0.06896552 0.0741509  0.06637283 0.06792844 0.07570651 0.07311382\n",
      " 0.0741509  0.07181748 0.07596578 0.07259528 0.07337309 0.06766917\n",
      " 0.06196526 0.05574281 0.06040965 0.06144672 0.05652061 0.05807623\n",
      " 0.05885403 0.05600208 0.05703915 0.05185377 0.04848328 0.04692767\n",
      " 0.0357791  0.03681618 0.03214934 0.0350013  0.03318642 0.0316308\n",
      " 0.03733472 0.04044594 0.04407571 0.03733472 0.0350013  0.02826031\n",
      " 0.030853   0.02644542 0.03033446 0.02696396 0.02514908 0.02151932\n",
      " 0.02592689 0.02877884 0.02385274 0.02618616 0.03266788 0.02955665\n",
      " 0.03033446 0.02877884 0.02800104 0.02981592 0.02463054 0.02229712\n",
      " 0.02670469 0.02540835 0.03240861 0.03422349 0.02618616 0.02618616\n",
      " 0.01892663 0.02255639 0.02177858 0.02670469 0.02644542 0.02981592\n",
      " 0.03033446 0.02618616 0.02535255 0.02457076 0.02383246 0.02315111\n",
      " 0.02246431 0.02176322 0.0210531  0.0203421  0.01963596 0.01893722\n",
      " 0.0182461  0.01756184 0.0168833  0.01620961]\n",
      "14 day output [[0.01554008]]\n",
      "15 day input [0.05781696 0.05211304 0.0583355  0.0666321  0.06740991 0.06196526\n",
      " 0.06144672 0.07103967 0.06922479 0.06844698 0.06740991 0.06507649\n",
      " 0.0624838  0.06792844 0.06196526 0.06144672 0.06222453 0.06896552\n",
      " 0.0741509  0.06637283 0.06792844 0.07570651 0.07311382 0.0741509\n",
      " 0.07181748 0.07596578 0.07259528 0.07337309 0.06766917 0.06196526\n",
      " 0.05574281 0.06040965 0.06144672 0.05652061 0.05807623 0.05885403\n",
      " 0.05600208 0.05703915 0.05185377 0.04848328 0.04692767 0.0357791\n",
      " 0.03681618 0.03214934 0.0350013  0.03318642 0.0316308  0.03733472\n",
      " 0.04044594 0.04407571 0.03733472 0.0350013  0.02826031 0.030853\n",
      " 0.02644542 0.03033446 0.02696396 0.02514908 0.02151932 0.02592689\n",
      " 0.02877884 0.02385274 0.02618616 0.03266788 0.02955665 0.03033446\n",
      " 0.02877884 0.02800104 0.02981592 0.02463054 0.02229712 0.02670469\n",
      " 0.02540835 0.03240861 0.03422349 0.02618616 0.02618616 0.01892663\n",
      " 0.02255639 0.02177858 0.02670469 0.02644542 0.02981592 0.03033446\n",
      " 0.02618616 0.02535255 0.02457076 0.02383246 0.02315111 0.02246431\n",
      " 0.02176322 0.0210531  0.0203421  0.01963596 0.01893722 0.0182461\n",
      " 0.01756184 0.0168833  0.01620961 0.01554008]\n",
      "15 day output [[0.01487436]]\n",
      "16 day input [0.05211304 0.0583355  0.0666321  0.06740991 0.06196526 0.06144672\n",
      " 0.07103967 0.06922479 0.06844698 0.06740991 0.06507649 0.0624838\n",
      " 0.06792844 0.06196526 0.06144672 0.06222453 0.06896552 0.0741509\n",
      " 0.06637283 0.06792844 0.07570651 0.07311382 0.0741509  0.07181748\n",
      " 0.07596578 0.07259528 0.07337309 0.06766917 0.06196526 0.05574281\n",
      " 0.06040965 0.06144672 0.05652061 0.05807623 0.05885403 0.05600208\n",
      " 0.05703915 0.05185377 0.04848328 0.04692767 0.0357791  0.03681618\n",
      " 0.03214934 0.0350013  0.03318642 0.0316308  0.03733472 0.04044594\n",
      " 0.04407571 0.03733472 0.0350013  0.02826031 0.030853   0.02644542\n",
      " 0.03033446 0.02696396 0.02514908 0.02151932 0.02592689 0.02877884\n",
      " 0.02385274 0.02618616 0.03266788 0.02955665 0.03033446 0.02877884\n",
      " 0.02800104 0.02981592 0.02463054 0.02229712 0.02670469 0.02540835\n",
      " 0.03240861 0.03422349 0.02618616 0.02618616 0.01892663 0.02255639\n",
      " 0.02177858 0.02670469 0.02644542 0.02981592 0.03033446 0.02618616\n",
      " 0.02535255 0.02457076 0.02383246 0.02315111 0.02246431 0.02176322\n",
      " 0.0210531  0.0203421  0.01963596 0.01893722 0.0182461  0.01756184\n",
      " 0.0168833  0.01620961 0.01554008 0.01487436]\n",
      "16 day output [[0.01421217]]\n",
      "17 day input [0.0583355  0.0666321  0.06740991 0.06196526 0.06144672 0.07103967\n",
      " 0.06922479 0.06844698 0.06740991 0.06507649 0.0624838  0.06792844\n",
      " 0.06196526 0.06144672 0.06222453 0.06896552 0.0741509  0.06637283\n",
      " 0.06792844 0.07570651 0.07311382 0.0741509  0.07181748 0.07596578\n",
      " 0.07259528 0.07337309 0.06766917 0.06196526 0.05574281 0.06040965\n",
      " 0.06144672 0.05652061 0.05807623 0.05885403 0.05600208 0.05703915\n",
      " 0.05185377 0.04848328 0.04692767 0.0357791  0.03681618 0.03214934\n",
      " 0.0350013  0.03318642 0.0316308  0.03733472 0.04044594 0.04407571\n",
      " 0.03733472 0.0350013  0.02826031 0.030853   0.02644542 0.03033446\n",
      " 0.02696396 0.02514908 0.02151932 0.02592689 0.02877884 0.02385274\n",
      " 0.02618616 0.03266788 0.02955665 0.03033446 0.02877884 0.02800104\n",
      " 0.02981592 0.02463054 0.02229712 0.02670469 0.02540835 0.03240861\n",
      " 0.03422349 0.02618616 0.02618616 0.01892663 0.02255639 0.02177858\n",
      " 0.02670469 0.02644542 0.02981592 0.03033446 0.02618616 0.02535255\n",
      " 0.02457076 0.02383246 0.02315111 0.02246431 0.02176322 0.0210531\n",
      " 0.0203421  0.01963596 0.01893722 0.0182461  0.01756184 0.0168833\n",
      " 0.01620961 0.01554008 0.01487436 0.01421217]\n",
      "17 day output [[0.0135534]]\n",
      "18 day input [0.0666321  0.06740991 0.06196526 0.06144672 0.07103967 0.06922479\n",
      " 0.06844698 0.06740991 0.06507649 0.0624838  0.06792844 0.06196526\n",
      " 0.06144672 0.06222453 0.06896552 0.0741509  0.06637283 0.06792844\n",
      " 0.07570651 0.07311382 0.0741509  0.07181748 0.07596578 0.07259528\n",
      " 0.07337309 0.06766917 0.06196526 0.05574281 0.06040965 0.06144672\n",
      " 0.05652061 0.05807623 0.05885403 0.05600208 0.05703915 0.05185377\n",
      " 0.04848328 0.04692767 0.0357791  0.03681618 0.03214934 0.0350013\n",
      " 0.03318642 0.0316308  0.03733472 0.04044594 0.04407571 0.03733472\n",
      " 0.0350013  0.02826031 0.030853   0.02644542 0.03033446 0.02696396\n",
      " 0.02514908 0.02151932 0.02592689 0.02877884 0.02385274 0.02618616\n",
      " 0.03266788 0.02955665 0.03033446 0.02877884 0.02800104 0.02981592\n",
      " 0.02463054 0.02229712 0.02670469 0.02540835 0.03240861 0.03422349\n",
      " 0.02618616 0.02618616 0.01892663 0.02255639 0.02177858 0.02670469\n",
      " 0.02644542 0.02981592 0.03033446 0.02618616 0.02535255 0.02457076\n",
      " 0.02383246 0.02315111 0.02246431 0.02176322 0.0210531  0.0203421\n",
      " 0.01963596 0.01893722 0.0182461  0.01756184 0.0168833  0.01620961\n",
      " 0.01554008 0.01487436 0.01421217 0.0135534 ]\n",
      "18 day output [[0.01289798]]\n",
      "19 day input [0.06740991 0.06196526 0.06144672 0.07103967 0.06922479 0.06844698\n",
      " 0.06740991 0.06507649 0.0624838  0.06792844 0.06196526 0.06144672\n",
      " 0.06222453 0.06896552 0.0741509  0.06637283 0.06792844 0.07570651\n",
      " 0.07311382 0.0741509  0.07181748 0.07596578 0.07259528 0.07337309\n",
      " 0.06766917 0.06196526 0.05574281 0.06040965 0.06144672 0.05652061\n",
      " 0.05807623 0.05885403 0.05600208 0.05703915 0.05185377 0.04848328\n",
      " 0.04692767 0.0357791  0.03681618 0.03214934 0.0350013  0.03318642\n",
      " 0.0316308  0.03733472 0.04044594 0.04407571 0.03733472 0.0350013\n",
      " 0.02826031 0.030853   0.02644542 0.03033446 0.02696396 0.02514908\n",
      " 0.02151932 0.02592689 0.02877884 0.02385274 0.02618616 0.03266788\n",
      " 0.02955665 0.03033446 0.02877884 0.02800104 0.02981592 0.02463054\n",
      " 0.02229712 0.02670469 0.02540835 0.03240861 0.03422349 0.02618616\n",
      " 0.02618616 0.01892663 0.02255639 0.02177858 0.02670469 0.02644542\n",
      " 0.02981592 0.03033446 0.02618616 0.02535255 0.02457076 0.02383246\n",
      " 0.02315111 0.02246431 0.02176322 0.0210531  0.0203421  0.01963596\n",
      " 0.01893722 0.0182461  0.01756184 0.0168833  0.01620961 0.01554008\n",
      " 0.01487436 0.01421217 0.0135534  0.01289798]\n",
      "19 day output [[0.01224585]]\n",
      "20 day input [0.06196526 0.06144672 0.07103967 0.06922479 0.06844698 0.06740991\n",
      " 0.06507649 0.0624838  0.06792844 0.06196526 0.06144672 0.06222453\n",
      " 0.06896552 0.0741509  0.06637283 0.06792844 0.07570651 0.07311382\n",
      " 0.0741509  0.07181748 0.07596578 0.07259528 0.07337309 0.06766917\n",
      " 0.06196526 0.05574281 0.06040965 0.06144672 0.05652061 0.05807623\n",
      " 0.05885403 0.05600208 0.05703915 0.05185377 0.04848328 0.04692767\n",
      " 0.0357791  0.03681618 0.03214934 0.0350013  0.03318642 0.0316308\n",
      " 0.03733472 0.04044594 0.04407571 0.03733472 0.0350013  0.02826031\n",
      " 0.030853   0.02644542 0.03033446 0.02696396 0.02514908 0.02151932\n",
      " 0.02592689 0.02877884 0.02385274 0.02618616 0.03266788 0.02955665\n",
      " 0.03033446 0.02877884 0.02800104 0.02981592 0.02463054 0.02229712\n",
      " 0.02670469 0.02540835 0.03240861 0.03422349 0.02618616 0.02618616\n",
      " 0.01892663 0.02255639 0.02177858 0.02670469 0.02644542 0.02981592\n",
      " 0.03033446 0.02618616 0.02535255 0.02457076 0.02383246 0.02315111\n",
      " 0.02246431 0.02176322 0.0210531  0.0203421  0.01963596 0.01893722\n",
      " 0.0182461  0.01756184 0.0168833  0.01620961 0.01554008 0.01487436\n",
      " 0.01421217 0.0135534  0.01289798 0.01224585]\n",
      "20 day output [[0.01159701]]\n",
      "21 day input [0.06144672 0.07103967 0.06922479 0.06844698 0.06740991 0.06507649\n",
      " 0.0624838  0.06792844 0.06196526 0.06144672 0.06222453 0.06896552\n",
      " 0.0741509  0.06637283 0.06792844 0.07570651 0.07311382 0.0741509\n",
      " 0.07181748 0.07596578 0.07259528 0.07337309 0.06766917 0.06196526\n",
      " 0.05574281 0.06040965 0.06144672 0.05652061 0.05807623 0.05885403\n",
      " 0.05600208 0.05703915 0.05185377 0.04848328 0.04692767 0.0357791\n",
      " 0.03681618 0.03214934 0.0350013  0.03318642 0.0316308  0.03733472\n",
      " 0.04044594 0.04407571 0.03733472 0.0350013  0.02826031 0.030853\n",
      " 0.02644542 0.03033446 0.02696396 0.02514908 0.02151932 0.02592689\n",
      " 0.02877884 0.02385274 0.02618616 0.03266788 0.02955665 0.03033446\n",
      " 0.02877884 0.02800104 0.02981592 0.02463054 0.02229712 0.02670469\n",
      " 0.02540835 0.03240861 0.03422349 0.02618616 0.02618616 0.01892663\n",
      " 0.02255639 0.02177858 0.02670469 0.02644542 0.02981592 0.03033446\n",
      " 0.02618616 0.02535255 0.02457076 0.02383246 0.02315111 0.02246431\n",
      " 0.02176322 0.0210531  0.0203421  0.01963596 0.01893722 0.0182461\n",
      " 0.01756184 0.0168833  0.01620961 0.01554008 0.01487436 0.01421217\n",
      " 0.0135534  0.01289798 0.01224585 0.01159701]\n",
      "21 day output [[0.01095144]]\n",
      "22 day input [0.07103967 0.06922479 0.06844698 0.06740991 0.06507649 0.0624838\n",
      " 0.06792844 0.06196526 0.06144672 0.06222453 0.06896552 0.0741509\n",
      " 0.06637283 0.06792844 0.07570651 0.07311382 0.0741509  0.07181748\n",
      " 0.07596578 0.07259528 0.07337309 0.06766917 0.06196526 0.05574281\n",
      " 0.06040965 0.06144672 0.05652061 0.05807623 0.05885403 0.05600208\n",
      " 0.05703915 0.05185377 0.04848328 0.04692767 0.0357791  0.03681618\n",
      " 0.03214934 0.0350013  0.03318642 0.0316308  0.03733472 0.04044594\n",
      " 0.04407571 0.03733472 0.0350013  0.02826031 0.030853   0.02644542\n",
      " 0.03033446 0.02696396 0.02514908 0.02151932 0.02592689 0.02877884\n",
      " 0.02385274 0.02618616 0.03266788 0.02955665 0.03033446 0.02877884\n",
      " 0.02800104 0.02981592 0.02463054 0.02229712 0.02670469 0.02540835\n",
      " 0.03240861 0.03422349 0.02618616 0.02618616 0.01892663 0.02255639\n",
      " 0.02177858 0.02670469 0.02644542 0.02981592 0.03033446 0.02618616\n",
      " 0.02535255 0.02457076 0.02383246 0.02315111 0.02246431 0.02176322\n",
      " 0.0210531  0.0203421  0.01963596 0.01893722 0.0182461  0.01756184\n",
      " 0.0168833  0.01620961 0.01554008 0.01487436 0.01421217 0.0135534\n",
      " 0.01289798 0.01224585 0.01159701 0.01095144]\n",
      "22 day output [[0.01030915]]\n",
      "23 day input [0.06922479 0.06844698 0.06740991 0.06507649 0.0624838  0.06792844\n",
      " 0.06196526 0.06144672 0.06222453 0.06896552 0.0741509  0.06637283\n",
      " 0.06792844 0.07570651 0.07311382 0.0741509  0.07181748 0.07596578\n",
      " 0.07259528 0.07337309 0.06766917 0.06196526 0.05574281 0.06040965\n",
      " 0.06144672 0.05652061 0.05807623 0.05885403 0.05600208 0.05703915\n",
      " 0.05185377 0.04848328 0.04692767 0.0357791  0.03681618 0.03214934\n",
      " 0.0350013  0.03318642 0.0316308  0.03733472 0.04044594 0.04407571\n",
      " 0.03733472 0.0350013  0.02826031 0.030853   0.02644542 0.03033446\n",
      " 0.02696396 0.02514908 0.02151932 0.02592689 0.02877884 0.02385274\n",
      " 0.02618616 0.03266788 0.02955665 0.03033446 0.02877884 0.02800104\n",
      " 0.02981592 0.02463054 0.02229712 0.02670469 0.02540835 0.03240861\n",
      " 0.03422349 0.02618616 0.02618616 0.01892663 0.02255639 0.02177858\n",
      " 0.02670469 0.02644542 0.02981592 0.03033446 0.02618616 0.02535255\n",
      " 0.02457076 0.02383246 0.02315111 0.02246431 0.02176322 0.0210531\n",
      " 0.0203421  0.01963596 0.01893722 0.0182461  0.01756184 0.0168833\n",
      " 0.01620961 0.01554008 0.01487436 0.01421217 0.0135534  0.01289798\n",
      " 0.01224585 0.01159701 0.01095144 0.01030915]\n",
      "23 day output [[0.00967011]]\n",
      "24 day input [0.06844698 0.06740991 0.06507649 0.0624838  0.06792844 0.06196526\n",
      " 0.06144672 0.06222453 0.06896552 0.0741509  0.06637283 0.06792844\n",
      " 0.07570651 0.07311382 0.0741509  0.07181748 0.07596578 0.07259528\n",
      " 0.07337309 0.06766917 0.06196526 0.05574281 0.06040965 0.06144672\n",
      " 0.05652061 0.05807623 0.05885403 0.05600208 0.05703915 0.05185377\n",
      " 0.04848328 0.04692767 0.0357791  0.03681618 0.03214934 0.0350013\n",
      " 0.03318642 0.0316308  0.03733472 0.04044594 0.04407571 0.03733472\n",
      " 0.0350013  0.02826031 0.030853   0.02644542 0.03033446 0.02696396\n",
      " 0.02514908 0.02151932 0.02592689 0.02877884 0.02385274 0.02618616\n",
      " 0.03266788 0.02955665 0.03033446 0.02877884 0.02800104 0.02981592\n",
      " 0.02463054 0.02229712 0.02670469 0.02540835 0.03240861 0.03422349\n",
      " 0.02618616 0.02618616 0.01892663 0.02255639 0.02177858 0.02670469\n",
      " 0.02644542 0.02981592 0.03033446 0.02618616 0.02535255 0.02457076\n",
      " 0.02383246 0.02315111 0.02246431 0.02176322 0.0210531  0.0203421\n",
      " 0.01963596 0.01893722 0.0182461  0.01756184 0.0168833  0.01620961\n",
      " 0.01554008 0.01487436 0.01421217 0.0135534  0.01289798 0.01224585\n",
      " 0.01159701 0.01095144 0.01030915 0.00967011]\n",
      "24 day output [[0.00903435]]\n",
      "25 day input [0.06740991 0.06507649 0.0624838  0.06792844 0.06196526 0.06144672\n",
      " 0.06222453 0.06896552 0.0741509  0.06637283 0.06792844 0.07570651\n",
      " 0.07311382 0.0741509  0.07181748 0.07596578 0.07259528 0.07337309\n",
      " 0.06766917 0.06196526 0.05574281 0.06040965 0.06144672 0.05652061\n",
      " 0.05807623 0.05885403 0.05600208 0.05703915 0.05185377 0.04848328\n",
      " 0.04692767 0.0357791  0.03681618 0.03214934 0.0350013  0.03318642\n",
      " 0.0316308  0.03733472 0.04044594 0.04407571 0.03733472 0.0350013\n",
      " 0.02826031 0.030853   0.02644542 0.03033446 0.02696396 0.02514908\n",
      " 0.02151932 0.02592689 0.02877884 0.02385274 0.02618616 0.03266788\n",
      " 0.02955665 0.03033446 0.02877884 0.02800104 0.02981592 0.02463054\n",
      " 0.02229712 0.02670469 0.02540835 0.03240861 0.03422349 0.02618616\n",
      " 0.02618616 0.01892663 0.02255639 0.02177858 0.02670469 0.02644542\n",
      " 0.02981592 0.03033446 0.02618616 0.02535255 0.02457076 0.02383246\n",
      " 0.02315111 0.02246431 0.02176322 0.0210531  0.0203421  0.01963596\n",
      " 0.01893722 0.0182461  0.01756184 0.0168833  0.01620961 0.01554008\n",
      " 0.01487436 0.01421217 0.0135534  0.01289798 0.01224585 0.01159701\n",
      " 0.01095144 0.01030915 0.00967011 0.00903435]\n",
      "25 day output [[0.00840186]]\n",
      "26 day input [0.06507649 0.0624838  0.06792844 0.06196526 0.06144672 0.06222453\n",
      " 0.06896552 0.0741509  0.06637283 0.06792844 0.07570651 0.07311382\n",
      " 0.0741509  0.07181748 0.07596578 0.07259528 0.07337309 0.06766917\n",
      " 0.06196526 0.05574281 0.06040965 0.06144672 0.05652061 0.05807623\n",
      " 0.05885403 0.05600208 0.05703915 0.05185377 0.04848328 0.04692767\n",
      " 0.0357791  0.03681618 0.03214934 0.0350013  0.03318642 0.0316308\n",
      " 0.03733472 0.04044594 0.04407571 0.03733472 0.0350013  0.02826031\n",
      " 0.030853   0.02644542 0.03033446 0.02696396 0.02514908 0.02151932\n",
      " 0.02592689 0.02877884 0.02385274 0.02618616 0.03266788 0.02955665\n",
      " 0.03033446 0.02877884 0.02800104 0.02981592 0.02463054 0.02229712\n",
      " 0.02670469 0.02540835 0.03240861 0.03422349 0.02618616 0.02618616\n",
      " 0.01892663 0.02255639 0.02177858 0.02670469 0.02644542 0.02981592\n",
      " 0.03033446 0.02618616 0.02535255 0.02457076 0.02383246 0.02315111\n",
      " 0.02246431 0.02176322 0.0210531  0.0203421  0.01963596 0.01893722\n",
      " 0.0182461  0.01756184 0.0168833  0.01620961 0.01554008 0.01487436\n",
      " 0.01421217 0.0135534  0.01289798 0.01224585 0.01159701 0.01095144\n",
      " 0.01030915 0.00967011 0.00903435 0.00840186]\n",
      "26 day output [[0.00777265]]\n",
      "27 day input [0.0624838  0.06792844 0.06196526 0.06144672 0.06222453 0.06896552\n",
      " 0.0741509  0.06637283 0.06792844 0.07570651 0.07311382 0.0741509\n",
      " 0.07181748 0.07596578 0.07259528 0.07337309 0.06766917 0.06196526\n",
      " 0.05574281 0.06040965 0.06144672 0.05652061 0.05807623 0.05885403\n",
      " 0.05600208 0.05703915 0.05185377 0.04848328 0.04692767 0.0357791\n",
      " 0.03681618 0.03214934 0.0350013  0.03318642 0.0316308  0.03733472\n",
      " 0.04044594 0.04407571 0.03733472 0.0350013  0.02826031 0.030853\n",
      " 0.02644542 0.03033446 0.02696396 0.02514908 0.02151932 0.02592689\n",
      " 0.02877884 0.02385274 0.02618616 0.03266788 0.02955665 0.03033446\n",
      " 0.02877884 0.02800104 0.02981592 0.02463054 0.02229712 0.02670469\n",
      " 0.02540835 0.03240861 0.03422349 0.02618616 0.02618616 0.01892663\n",
      " 0.02255639 0.02177858 0.02670469 0.02644542 0.02981592 0.03033446\n",
      " 0.02618616 0.02535255 0.02457076 0.02383246 0.02315111 0.02246431\n",
      " 0.02176322 0.0210531  0.0203421  0.01963596 0.01893722 0.0182461\n",
      " 0.01756184 0.0168833  0.01620961 0.01554008 0.01487436 0.01421217\n",
      " 0.0135534  0.01289798 0.01224585 0.01159701 0.01095144 0.01030915\n",
      " 0.00967011 0.00903435 0.00840186 0.00777265]\n",
      "27 day output [[0.00714674]]\n",
      "28 day input [0.06792844 0.06196526 0.06144672 0.06222453 0.06896552 0.0741509\n",
      " 0.06637283 0.06792844 0.07570651 0.07311382 0.0741509  0.07181748\n",
      " 0.07596578 0.07259528 0.07337309 0.06766917 0.06196526 0.05574281\n",
      " 0.06040965 0.06144672 0.05652061 0.05807623 0.05885403 0.05600208\n",
      " 0.05703915 0.05185377 0.04848328 0.04692767 0.0357791  0.03681618\n",
      " 0.03214934 0.0350013  0.03318642 0.0316308  0.03733472 0.04044594\n",
      " 0.04407571 0.03733472 0.0350013  0.02826031 0.030853   0.02644542\n",
      " 0.03033446 0.02696396 0.02514908 0.02151932 0.02592689 0.02877884\n",
      " 0.02385274 0.02618616 0.03266788 0.02955665 0.03033446 0.02877884\n",
      " 0.02800104 0.02981592 0.02463054 0.02229712 0.02670469 0.02540835\n",
      " 0.03240861 0.03422349 0.02618616 0.02618616 0.01892663 0.02255639\n",
      " 0.02177858 0.02670469 0.02644542 0.02981592 0.03033446 0.02618616\n",
      " 0.02535255 0.02457076 0.02383246 0.02315111 0.02246431 0.02176322\n",
      " 0.0210531  0.0203421  0.01963596 0.01893722 0.0182461  0.01756184\n",
      " 0.0168833  0.01620961 0.01554008 0.01487436 0.01421217 0.0135534\n",
      " 0.01289798 0.01224585 0.01159701 0.01095144 0.01030915 0.00967011\n",
      " 0.00903435 0.00840186 0.00777265 0.00714674]\n",
      "28 day output [[0.00652415]]\n",
      "29 day input [0.06196526 0.06144672 0.06222453 0.06896552 0.0741509  0.06637283\n",
      " 0.06792844 0.07570651 0.07311382 0.0741509  0.07181748 0.07596578\n",
      " 0.07259528 0.07337309 0.06766917 0.06196526 0.05574281 0.06040965\n",
      " 0.06144672 0.05652061 0.05807623 0.05885403 0.05600208 0.05703915\n",
      " 0.05185377 0.04848328 0.04692767 0.0357791  0.03681618 0.03214934\n",
      " 0.0350013  0.03318642 0.0316308  0.03733472 0.04044594 0.04407571\n",
      " 0.03733472 0.0350013  0.02826031 0.030853   0.02644542 0.03033446\n",
      " 0.02696396 0.02514908 0.02151932 0.02592689 0.02877884 0.02385274\n",
      " 0.02618616 0.03266788 0.02955665 0.03033446 0.02877884 0.02800104\n",
      " 0.02981592 0.02463054 0.02229712 0.02670469 0.02540835 0.03240861\n",
      " 0.03422349 0.02618616 0.02618616 0.01892663 0.02255639 0.02177858\n",
      " 0.02670469 0.02644542 0.02981592 0.03033446 0.02618616 0.02535255\n",
      " 0.02457076 0.02383246 0.02315111 0.02246431 0.02176322 0.0210531\n",
      " 0.0203421  0.01963596 0.01893722 0.0182461  0.01756184 0.0168833\n",
      " 0.01620961 0.01554008 0.01487436 0.01421217 0.0135534  0.01289798\n",
      " 0.01224585 0.01159701 0.01095144 0.01030915 0.00967011 0.00903435\n",
      " 0.00840186 0.00777265 0.00714674 0.00652415]\n",
      "29 day output [[0.00590488]]\n",
      "[[0.025352545082569122], [0.024570761248469353], [0.02383246272802353], [0.023151107132434845], [0.02246430516242981], [0.02176322042942047], [0.021053098142147064], [0.02034210041165352], [0.01963595673441887], [0.018937217071652412], [0.018246103078126907], [0.017561836168169975], [0.016883298754692078], [0.01620960608124733], [0.015540084801614285], [0.014874357730150223], [0.014212168753147125], [0.013553397729992867], [0.012897975742816925], [0.012245852500200272], [0.011597011238336563], [0.010951442644000053], [0.010309150442481041], [0.009670110419392586], [0.009034348651766777], [0.008401859551668167], [0.007772654294967651], [0.007146742194890976], [0.006524147465825081], [0.005904879420995712]]\n"
     ]
    }
   ],
   "source": [
    "# demonstrate prediction for next 60 days\n",
    "from numpy import array\n",
    "\n",
    "lst_output=[]\n",
    "n_steps=100\n",
    "i=0\n",
    "while(i<30):\n",
    "    \n",
    "    if(len(temp_input)>100):\n",
    "        #print(temp_input)\n",
    "        x_input=np.array(temp_input[1:])\n",
    "        print(\"{} day input {}\".format(i,x_input))\n",
    "        x_input=x_input.reshape(1,-1)\n",
    "        x_input = x_input.reshape((1, n_steps, 1))\n",
    "        #print(x_input)\n",
    "        yhat = model.predict(x_input, verbose=0)\n",
    "        print(\"{} day output {}\".format(i,yhat))\n",
    "        temp_input.extend(yhat[0].tolist())\n",
    "        temp_input=temp_input[1:]\n",
    "        #print(temp_input)\n",
    "        lst_output.extend(yhat.tolist())\n",
    "        i=i+1\n",
    "    else:\n",
    "        x_input = x_input.reshape((1, n_steps,1))\n",
    "        yhat = model.predict(x_input, verbose=0)\n",
    "        print(yhat[0])\n",
    "        temp_input.extend(yhat[0].tolist())\n",
    "        print(len(temp_input))\n",
    "        lst_output.extend(yhat.tolist())\n",
    "        i=i+1\n",
    "    \n",
    "\n",
    "print(lst_output)"
   ]
  },
  {
   "cell_type": "code",
   "execution_count": 91,
   "metadata": {},
   "outputs": [],
   "source": [
    "day_new=np.arange(1,101)\n",
    "day_pred=np.arange(101,131)"
   ]
  },
  {
   "cell_type": "code",
   "execution_count": 92,
   "metadata": {},
   "outputs": [],
   "source": [
    "import matplotlib.pyplot as plt"
   ]
  },
  {
   "cell_type": "code",
   "execution_count": 93,
   "metadata": {},
   "outputs": [
    {
     "data": {
      "text/plain": [
       "12829"
      ]
     },
     "execution_count": 93,
     "metadata": {},
     "output_type": "execute_result"
    }
   ],
   "source": [
    "len(df1)"
   ]
  },
  {
   "cell_type": "code",
   "execution_count": 94,
   "metadata": {},
   "outputs": [
    {
     "data": {
      "text/plain": [
       "[<matplotlib.lines.Line2D at 0x14037bcd0>]"
      ]
     },
     "execution_count": 94,
     "metadata": {},
     "output_type": "execute_result"
    },
    {
     "data": {
      "image/png": "[encoded data removed]",
      "text/plain": [
       "<Figure size 432x288 with 1 Axes>"
      ]
     },
     "metadata": {
      "needs_background": "light"
     },
     "output_type": "display_data"
    }
   ],
   "source": [
    "plt.plot(day_new,scaler.inverse_transform(df1[12729:]))\n",
    "plt.plot(day_pred,scaler.inverse_transform(lst_output))"
   ]
  },
  {
   "cell_type": "code",
   "execution_count": 95,
   "metadata": {},
   "outputs": [
    {
     "data": {
      "text/plain": [
       "[<matplotlib.lines.Line2D at 0x1403f9df0>]"
      ]
     },
     "execution_count": 95,
     "metadata": {},
     "output_type": "execute_result"
    },
    {
     "data": {
      "image/png": "[encoded data removed]",
      "text/plain": [
       "<Figure size 432x288 with 1 Axes>"
      ]
     },
     "metadata": {
      "needs_background": "light"
     },
     "output_type": "display_data"
    }
   ],
   "source": [
    "df3=df1.tolist()\n",
    "df3.extend(lst_output)\n",
    "plt.plot(df3[1200:])"
   ]
  },
  {
   "cell_type": "code",
   "execution_count": 96,
   "metadata": {},
   "outputs": [],
   "source": [
    "df3=scaler.inverse_transform(df3).tolist()"
   ]
  },
  {
   "cell_type": "code",
   "execution_count": 97,
   "metadata": {},
   "outputs": [
    {
     "data": {
      "text/plain": [
       "[<matplotlib.lines.Line2D at 0x140343dc0>]"
      ]
     },
     "execution_count": 97,
     "metadata": {},
     "output_type": "execute_result"
    },
    {
     "data": {
      "image/png": "[encoded data removed]",
      "text/plain": [
       "<Figure size 432x288 with 1 Axes>"
      ]
     },
     "metadata": {
      "needs_background": "light"
     },
     "output_type": "display_data"
    }
   ],
   "source": [
    "plt.plot(df3)"
   ]
  },
  {
   "cell_type": "code",
   "execution_count": null,
   "metadata": {},
   "outputs": [],
   "source": []
  }
 ],
 "metadata": {
  "kernelspec": {
   "display_name": "Python 3",
   "language": "python",
   "name": "python3"
  },
  "language_info": {
   "codemirror_mode": {
    "name": "ipython",
    "version": 3
   },
   "file_extension": ".py",
   "mimetype": "text/x-python",
   "name": "python",
   "nbconvert_exporter": "python",
   "pygments_lexer": "ipython3",
   "version": "3.8.3"
  }
 },
 "nbformat": 4,
 "nbformat_minor": 4
}
