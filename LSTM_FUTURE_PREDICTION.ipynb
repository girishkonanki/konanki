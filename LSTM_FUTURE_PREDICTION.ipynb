{
 "cells": [
  {
   "cell_type": "code",
   "execution_count": 64,
   "metadata": {},
   "outputs": [],
   "source": [
    "import math\n",
    "import pandas_datareader as wb\n",
    "import numpy as np\n",
    "import pandas as pd\n",
    "from sklearn.preprocessing import MinMaxScaler\n",
    "from keras.models import Sequential\n",
    "from keras.layers import Dense, LSTM\n",
    "import matplotlib.pyplot as plt"
   ]
  },
  {
   "cell_type": "code",
   "execution_count": 65,
   "metadata": {},
   "outputs": [
    {
     "data": {
      "text/html": [
       "<div>\n",
       "<style scoped>\n",
       "    .dataframe tbody tr th:only-of-type {\n",
       "        vertical-align: middle;\n",
       "    }\n",
       "\n",
       "    .dataframe tbody tr th {\n",
       "        vertical-align: top;\n",
       "    }\n",
       "\n",
       "    .dataframe thead th {\n",
       "        text-align: right;\n",
       "    }\n",
       "</style>\n",
       "<table border=\"1\" class=\"dataframe\">\n",
       "  <thead>\n",
       "    <tr style=\"text-align: right;\">\n",
       "      <th></th>\n",
       "      <th>Date</th>\n",
       "      <th>Open</th>\n",
       "      <th>High</th>\n",
       "      <th>Low</th>\n",
       "      <th>Close</th>\n",
       "      <th>Adj Close</th>\n",
       "      <th>Volume</th>\n",
       "    </tr>\n",
       "  </thead>\n",
       "  <tbody>\n",
       "    <tr>\n",
       "      <th>0</th>\n",
       "      <td>1962-01-02</td>\n",
       "      <td>0.000000</td>\n",
       "      <td>1.441406</td>\n",
       "      <td>1.421875</td>\n",
       "      <td>1.429688</td>\n",
       "      <td>0.282667</td>\n",
       "      <td>192000</td>\n",
       "    </tr>\n",
       "    <tr>\n",
       "      <th>1</th>\n",
       "      <td>1962-01-03</td>\n",
       "      <td>0.000000</td>\n",
       "      <td>1.429688</td>\n",
       "      <td>1.402344</td>\n",
       "      <td>1.414063</td>\n",
       "      <td>0.279577</td>\n",
       "      <td>428800</td>\n",
       "    </tr>\n",
       "    <tr>\n",
       "      <th>2</th>\n",
       "      <td>1962-01-04</td>\n",
       "      <td>0.000000</td>\n",
       "      <td>1.417969</td>\n",
       "      <td>1.390625</td>\n",
       "      <td>1.390625</td>\n",
       "      <td>0.274944</td>\n",
       "      <td>326400</td>\n",
       "    </tr>\n",
       "    <tr>\n",
       "      <th>3</th>\n",
       "      <td>1962-01-05</td>\n",
       "      <td>0.000000</td>\n",
       "      <td>1.394531</td>\n",
       "      <td>1.363281</td>\n",
       "      <td>1.380859</td>\n",
       "      <td>0.273013</td>\n",
       "      <td>544000</td>\n",
       "    </tr>\n",
       "    <tr>\n",
       "      <th>4</th>\n",
       "      <td>1962-01-08</td>\n",
       "      <td>0.000000</td>\n",
       "      <td>1.373047</td>\n",
       "      <td>1.328125</td>\n",
       "      <td>1.343750</td>\n",
       "      <td>0.265676</td>\n",
       "      <td>1523200</td>\n",
       "    </tr>\n",
       "    <tr>\n",
       "      <th>...</th>\n",
       "      <td>...</td>\n",
       "      <td>...</td>\n",
       "      <td>...</td>\n",
       "      <td>...</td>\n",
       "      <td>...</td>\n",
       "      <td>...</td>\n",
       "      <td>...</td>\n",
       "    </tr>\n",
       "    <tr>\n",
       "      <th>14788</th>\n",
       "      <td>2020-09-30</td>\n",
       "      <td>138.160004</td>\n",
       "      <td>139.850006</td>\n",
       "      <td>137.809998</td>\n",
       "      <td>138.990005</td>\n",
       "      <td>138.990005</td>\n",
       "      <td>8727800</td>\n",
       "    </tr>\n",
       "    <tr>\n",
       "      <th>14789</th>\n",
       "      <td>2020-10-01</td>\n",
       "      <td>139.580002</td>\n",
       "      <td>139.990005</td>\n",
       "      <td>138.210007</td>\n",
       "      <td>139.240005</td>\n",
       "      <td>139.240005</td>\n",
       "      <td>5713400</td>\n",
       "    </tr>\n",
       "    <tr>\n",
       "      <th>14790</th>\n",
       "      <td>2020-10-02</td>\n",
       "      <td>137.929993</td>\n",
       "      <td>139.119995</td>\n",
       "      <td>136.949997</td>\n",
       "      <td>138.119995</td>\n",
       "      <td>138.119995</td>\n",
       "      <td>6077900</td>\n",
       "    </tr>\n",
       "    <tr>\n",
       "      <th>14791</th>\n",
       "      <td>2020-10-05</td>\n",
       "      <td>138.720001</td>\n",
       "      <td>139.649994</td>\n",
       "      <td>138.300003</td>\n",
       "      <td>139.389999</td>\n",
       "      <td>139.389999</td>\n",
       "      <td>6333900</td>\n",
       "    </tr>\n",
       "    <tr>\n",
       "      <th>14792</th>\n",
       "      <td>2020-10-06</td>\n",
       "      <td>139.419998</td>\n",
       "      <td>140.770004</td>\n",
       "      <td>138.809998</td>\n",
       "      <td>139.610001</td>\n",
       "      <td>139.610001</td>\n",
       "      <td>6041900</td>\n",
       "    </tr>\n",
       "  </tbody>\n",
       "</table>\n",
       "<p>14793 rows × 7 columns</p>\n",
       "</div>"
      ],
      "text/plain": [
       "             Date        Open        High         Low       Close   Adj Close  \\\n",
       "0      1962-01-02    0.000000    1.441406    1.421875    1.429688    0.282667   \n",
       "1      1962-01-03    0.000000    1.429688    1.402344    1.414063    0.279577   \n",
       "2      1962-01-04    0.000000    1.417969    1.390625    1.390625    0.274944   \n",
       "3      1962-01-05    0.000000    1.394531    1.363281    1.380859    0.273013   \n",
       "4      1962-01-08    0.000000    1.373047    1.328125    1.343750    0.265676   \n",
       "...           ...         ...         ...         ...         ...         ...   \n",
       "14788  2020-09-30  138.160004  139.850006  137.809998  138.990005  138.990005   \n",
       "14789  2020-10-01  139.580002  139.990005  138.210007  139.240005  139.240005   \n",
       "14790  2020-10-02  137.929993  139.119995  136.949997  138.119995  138.119995   \n",
       "14791  2020-10-05  138.720001  139.649994  138.300003  139.389999  139.389999   \n",
       "14792  2020-10-06  139.419998  140.770004  138.809998  139.610001  139.610001   \n",
       "\n",
       "        Volume  \n",
       "0       192000  \n",
       "1       428800  \n",
       "2       326400  \n",
       "3       544000  \n",
       "4      1523200  \n",
       "...        ...  \n",
       "14788  8727800  \n",
       "14789  5713400  \n",
       "14790  6077900  \n",
       "14791  6333900  \n",
       "14792  6041900  \n",
       "\n",
       "[14793 rows x 7 columns]"
      ]
     },
     "execution_count": 65,
     "metadata": {},
     "output_type": "execute_result"
    }
   ],
   "source": [
    "df= pd.read_csv('/Users/kgirish/desktop/PG.csv')\n",
    "df"
   ]
  },
  {
   "cell_type": "code",
   "execution_count": 66,
   "metadata": {},
   "outputs": [],
   "source": [
    "df1=df.reset_index()['Close']"
   ]
  },
  {
   "cell_type": "code",
   "execution_count": 67,
   "metadata": {},
   "outputs": [
    {
     "data": {
      "text/plain": [
       "0          1.429688\n",
       "1          1.414063\n",
       "2          1.390625\n",
       "3          1.380859\n",
       "4          1.343750\n",
       "            ...    \n",
       "14788    138.990005\n",
       "14789    139.240005\n",
       "14790    138.119995\n",
       "14791    139.389999\n",
       "14792    139.610001\n",
       "Name: Close, Length: 14793, dtype: float64"
      ]
     },
     "execution_count": 67,
     "metadata": {},
     "output_type": "execute_result"
    }
   ],
   "source": [
    "df1"
   ]
  },
  {
   "cell_type": "code",
   "execution_count": 68,
   "metadata": {},
   "outputs": [
    {
     "data": {
      "text/plain": [
       "[<matplotlib.lines.Line2D at 0x142a8a5b0>]"
      ]
     },
     "execution_count": 68,
     "metadata": {},
     "output_type": "execute_result"
    },
    {
     "data": {
      "image/png": "[encoded data removed]",
      "text/plain": [
       "<Figure size 432x288 with 1 Axes>"
      ]
     },
     "metadata": {
      "needs_background": "light"
     },
     "output_type": "display_data"
    }
   ],
   "source": [
    "import matplotlib.pyplot as plt\n",
    "plt.plot(df1)s"
   ]
  },
  {
   "cell_type": "code",
   "execution_count": 69,
   "metadata": {},
   "outputs": [],
   "source": [
    "### LSTM are sensitive to the scale of the data. so we apply MinMax scaler"
   ]
  },
  {
   "cell_type": "code",
   "execution_count": 70,
   "metadata": {},
   "outputs": [
    {
     "data": {
      "text/plain": [
       "0          1.429688\n",
       "1          1.414063\n",
       "2          1.390625\n",
       "3          1.380859\n",
       "4          1.343750\n",
       "            ...    \n",
       "14788    138.990005\n",
       "14789    139.240005\n",
       "14790    138.119995\n",
       "14791    139.389999\n",
       "14792    139.610001\n",
       "Name: Close, Length: 14793, dtype: float64"
      ]
     },
     "execution_count": 70,
     "metadata": {},
     "output_type": "execute_result"
    }
   ],
   "source": [
    "df1"
   ]
  },
  {
   "cell_type": "code",
   "execution_count": 71,
   "metadata": {},
   "outputs": [],
   "source": [
    "from sklearn.preprocessing import MinMaxScaler\n",
    "scaler=MinMaxScaler(feature_range=(0,1))\n",
    "df1=scaler.fit_transform(np.array(df1).reshape(-1,1))"
   ]
  },
  {
   "cell_type": "code",
   "execution_count": 72,
   "metadata": {},
   "outputs": [
    {
     "name": "stdout",
     "output_type": "stream",
     "text": [
      "[[0.00370764]\n",
      " [0.00359571]\n",
      " [0.00342782]\n",
      " ...\n",
      " [0.9828794 ]\n",
      " [0.99197698]\n",
      " [0.99355295]]\n"
     ]
    }
   ],
   "source": [
    "print(df1)\n"
   ]
  },
  {
   "cell_type": "code",
   "execution_count": 73,
   "metadata": {},
   "outputs": [],
   "source": [
    "##splitting dataset into train and test split\n",
    "training_size=int(len(df1)*0.65)\n",
    "test_size=len(df1)-training_size\n",
    "train_data,test_data=df1[0:training_size,:],df1[training_size:len(df1),:1]"
   ]
  },
  {
   "cell_type": "code",
   "execution_count": 74,
   "metadata": {},
   "outputs": [
    {
     "data": {
      "text/plain": [
       "(9615, 5178)"
      ]
     },
     "execution_count": 74,
     "metadata": {},
     "output_type": "execute_result"
    }
   ],
   "source": [
    "training_size,test_size"
   ]
  },
  {
   "cell_type": "code",
   "execution_count": 75,
   "metadata": {},
   "outputs": [
    {
     "data": {
      "text/plain": [
       "array([[0.00370764],\n",
       "       [0.00359571],\n",
       "       [0.00342782],\n",
       "       ...,\n",
       "       [0.30664247],\n",
       "       [0.21195085],\n",
       "       [0.2012057 ]])"
      ]
     },
     "execution_count": 75,
     "metadata": {},
     "output_type": "execute_result"
    }
   ],
   "source": [
    "train_data"
   ]
  },
  {
   "cell_type": "code",
   "execution_count": 76,
   "metadata": {},
   "outputs": [],
   "source": [
    "import numpy\n",
    "# convert an array of values into a dataset matrix\n",
    "def create_dataset(dataset, time_step=1):\n",
    "\tdataX, dataY = [], []\n",
    "\tfor i in range(len(dataset)-time_step-1):\n",
    "\t\ta = dataset[i:(i+time_step), 0]   ###i=0, 0,1,2,3-----99   100 \n",
    "\t\tdataX.append(a)\n",
    "\t\tdataY.append(dataset[i + time_step, 0])\n",
    "\treturn numpy.array(dataX), numpy.array(dataY)"
   ]
  },
  {
   "cell_type": "code",
   "execution_count": 77,
   "metadata": {},
   "outputs": [],
   "source": [
    "# reshape into X=t,t+1,t+2,t+3 and Y=t+4\n",
    "time_step = 100\n",
    "X_train, y_train = create_dataset(train_data, time_step)\n",
    "X_test, y_test = create_dataset(test_data, time_step)"
   ]
  },
  {
   "cell_type": "code",
   "execution_count": 78,
   "metadata": {},
   "outputs": [
    {
     "name": "stdout",
     "output_type": "stream",
     "text": [
      "(9514, 100)\n",
      "(9514,)\n"
     ]
    },
    {
     "data": {
      "text/plain": [
       "(None, None)"
      ]
     },
     "execution_count": 78,
     "metadata": {},
     "output_type": "execute_result"
    }
   ],
   "source": [
    "print(X_train.shape), print(y_train.shape)"
   ]
  },
  {
   "cell_type": "code",
   "execution_count": 79,
   "metadata": {},
   "outputs": [
    {
     "name": "stdout",
     "output_type": "stream",
     "text": [
      "(5077, 100)\n",
      "(5077,)\n"
     ]
    },
    {
     "data": {
      "text/plain": [
       "(None, None)"
      ]
     },
     "execution_count": 79,
     "metadata": {},
     "output_type": "execute_result"
    }
   ],
   "source": [
    "print(X_test.shape), print(y_test.shape)"
   ]
  },
  {
   "cell_type": "code",
   "execution_count": 80,
   "metadata": {},
   "outputs": [],
   "source": [
    "# reshape input to be [samples, time steps, features] which is required for LSTM\n",
    "X_train =X_train.reshape(X_train.shape[0],X_train.shape[1] , 1)\n",
    "X_test = X_test.reshape(X_test.shape[0],X_test.shape[1] , 1)\n"
   ]
  },
  {
   "cell_type": "code",
   "execution_count": 81,
   "metadata": {},
   "outputs": [],
   "source": [
    "### Create the Stacked LSTM model\n",
    "from tensorflow.keras.models import Sequential\n",
    "from tensorflow.keras.layers import Dense\n",
    "from tensorflow.keras.layers import LSTM\n"
   ]
  },
  {
   "cell_type": "code",
   "execution_count": 82,
   "metadata": {},
   "outputs": [],
   "source": [
    "model=Sequential()\n",
    "model.add(LSTM(50,return_sequences=True,input_shape=(100,1)))\n",
    "model.add(LSTM(50,return_sequences=True))\n",
    "model.add(LSTM(50))\n",
    "model.add(Dense(1))\n",
    "model.compile(loss='mean_squared_error',optimizer='adam')"
   ]
  },
  {
   "cell_type": "code",
   "execution_count": 83,
   "metadata": {},
   "outputs": [
    {
     "name": "stdout",
     "output_type": "stream",
     "text": [
      "Model: \"sequential_1\"\n",
      "_________________________________________________________________\n",
      "Layer (type)                 Output Shape              Param #   \n",
      "=================================================================\n",
      "lstm_3 (LSTM)                (None, 100, 50)           10400     \n",
      "_________________________________________________________________\n",
      "lstm_4 (LSTM)                (None, 100, 50)           20200     \n",
      "_________________________________________________________________\n",
      "lstm_5 (LSTM)                (None, 50)                20200     \n",
      "_________________________________________________________________\n",
      "dense_1 (Dense)              (None, 1)                 51        \n",
      "=================================================================\n",
      "Total params: 50,851\n",
      "Trainable params: 50,851\n",
      "Non-trainable params: 0\n",
      "_________________________________________________________________\n"
     ]
    }
   ],
   "source": [
    "model.summary()\n"
   ]
  },
  {
   "cell_type": "code",
   "execution_count": 84,
   "metadata": {},
   "outputs": [
    {
     "name": "stdout",
     "output_type": "stream",
     "text": [
      "Model: \"sequential_1\"\n",
      "_________________________________________________________________\n",
      "Layer (type)                 Output Shape              Param #   \n",
      "=================================================================\n",
      "lstm_3 (LSTM)                (None, 100, 50)           10400     \n",
      "_________________________________________________________________\n",
      "lstm_4 (LSTM)                (None, 100, 50)           20200     \n",
      "_________________________________________________________________\n",
      "lstm_5 (LSTM)                (None, 50)                20200     \n",
      "_________________________________________________________________\n",
      "dense_1 (Dense)              (None, 1)                 51        \n",
      "=================================================================\n",
      "Total params: 50,851\n",
      "Trainable params: 50,851\n",
      "Non-trainable params: 0\n",
      "_________________________________________________________________\n"
     ]
    }
   ],
   "source": [
    "model.summary()"
   ]
  },
  {
   "cell_type": "code",
   "execution_count": 85,
   "metadata": {},
   "outputs": [
    {
     "name": "stdout",
     "output_type": "stream",
     "text": [
      "Epoch 1/100\n",
      "149/149 [==============================] - 31s 208ms/step - loss: 4.0188e-04 - val_loss: 8.1164e-04\n",
      "Epoch 2/100\n",
      "149/149 [==============================] - 30s 199ms/step - loss: 2.9363e-05 - val_loss: 0.0011\n",
      "Epoch 3/100\n",
      "149/149 [==============================] - 29s 198ms/step - loss: 2.8072e-05 - val_loss: 0.0012\n",
      "Epoch 4/100\n",
      "149/149 [==============================] - 30s 200ms/step - loss: 2.8330e-05 - val_loss: 0.0016\n",
      "Epoch 5/100\n",
      "149/149 [==============================] - 29s 198ms/step - loss: 2.5976e-05 - val_loss: 4.3923e-04\n",
      "Epoch 6/100\n",
      "149/149 [==============================] - 29s 196ms/step - loss: 2.8464e-05 - val_loss: 9.2948e-04\n",
      "Epoch 7/100\n",
      "149/149 [==============================] - 30s 200ms/step - loss: 2.0694e-05 - val_loss: 8.0621e-04\n",
      "Epoch 8/100\n",
      "149/149 [==============================] - 1912s 13s/step - loss: 2.0423e-05 - val_loss: 3.9237e-04\n",
      "Epoch 9/100\n",
      "149/149 [==============================] - 53s 355ms/step - loss: 2.4060e-05 - val_loss: 2.7876e-04\n",
      "Epoch 10/100\n",
      "149/149 [==============================] - 41s 275ms/step - loss: 2.1084e-05 - val_loss: 4.2641e-04\n",
      "Epoch 11/100\n",
      "149/149 [==============================] - 47s 316ms/step - loss: 1.8780e-05 - val_loss: 2.8277e-04\n",
      "Epoch 12/100\n",
      "149/149 [==============================] - 43s 290ms/step - loss: 1.7225e-05 - val_loss: 2.4597e-04\n",
      "Epoch 13/100\n",
      "149/149 [==============================] - 33s 224ms/step - loss: 1.6136e-05 - val_loss: 9.7359e-04\n",
      "Epoch 14/100\n",
      "149/149 [==============================] - 33s 222ms/step - loss: 1.5014e-05 - val_loss: 0.0013\n",
      "Epoch 15/100\n",
      "149/149 [==============================] - 33s 221ms/step - loss: 1.7569e-05 - val_loss: 5.3475e-04\n",
      "Epoch 16/100\n",
      "149/149 [==============================] - 33s 224ms/step - loss: 1.8068e-05 - val_loss: 2.6877e-04\n",
      "Epoch 17/100\n",
      "149/149 [==============================] - 33s 224ms/step - loss: 1.4623e-05 - val_loss: 0.0015\n",
      "Epoch 18/100\n",
      "149/149 [==============================] - 33s 223ms/step - loss: 1.5687e-05 - val_loss: 5.3448e-04\n",
      "Epoch 19/100\n",
      "149/149 [==============================] - 35s 237ms/step - loss: 1.4980e-05 - val_loss: 3.5847e-04\n",
      "Epoch 20/100\n",
      "149/149 [==============================] - 33s 221ms/step - loss: 1.3324e-05 - val_loss: 2.1618e-04\n",
      "Epoch 21/100\n",
      "149/149 [==============================] - 33s 220ms/step - loss: 1.3363e-05 - val_loss: 9.1605e-04\n",
      "Epoch 22/100\n",
      "149/149 [==============================] - 30s 204ms/step - loss: 1.4929e-05 - val_loss: 4.8764e-04\n",
      "Epoch 23/100\n",
      "149/149 [==============================] - 34s 226ms/step - loss: 1.7667e-05 - val_loss: 8.6526e-04\n",
      "Epoch 24/100\n",
      "149/149 [==============================] - 33s 221ms/step - loss: 1.1536e-05 - val_loss: 3.7605e-04\n",
      "Epoch 25/100\n",
      "149/149 [==============================] - 33s 222ms/step - loss: 1.1770e-05 - val_loss: 3.0820e-04\n",
      "Epoch 26/100\n",
      "149/149 [==============================] - 33s 224ms/step - loss: 1.4388e-05 - val_loss: 3.7057e-04\n",
      "Epoch 27/100\n",
      "149/149 [==============================] - 33s 223ms/step - loss: 1.3015e-05 - val_loss: 3.6044e-04\n",
      "Epoch 28/100\n",
      "149/149 [==============================] - 33s 222ms/step - loss: 1.5009e-05 - val_loss: 3.1987e-04\n",
      "Epoch 29/100\n",
      "149/149 [==============================] - 33s 223ms/step - loss: 9.7084e-06 - val_loss: 9.3688e-04\n",
      "Epoch 30/100\n",
      "149/149 [==============================] - 33s 220ms/step - loss: 1.1291e-05 - val_loss: 3.0860e-04\n",
      "Epoch 31/100\n",
      "149/149 [==============================] - 32s 218ms/step - loss: 9.6058e-06 - val_loss: 3.9266e-04\n",
      "Epoch 32/100\n",
      "149/149 [==============================] - 33s 218ms/step - loss: 9.7094e-06 - val_loss: 4.7122e-04\n",
      "Epoch 33/100\n",
      "149/149 [==============================] - 33s 219ms/step - loss: 9.1941e-06 - val_loss: 0.0011\n",
      "Epoch 34/100\n",
      "149/149 [==============================] - 33s 218ms/step - loss: 1.0831e-05 - val_loss: 2.4732e-04\n",
      "Epoch 35/100\n",
      "149/149 [==============================] - 29s 193ms/step - loss: 9.4186e-06 - val_loss: 7.5866e-04\n",
      "Epoch 36/100\n",
      "149/149 [==============================] - 28s 190ms/step - loss: 8.1439e-06 - val_loss: 4.7393e-04\n",
      "Epoch 37/100\n",
      "149/149 [==============================] - 28s 189ms/step - loss: 1.0419e-05 - val_loss: 2.1884e-04\n",
      "Epoch 38/100\n",
      "149/149 [==============================] - 28s 190ms/step - loss: 8.8301e-06 - val_loss: 0.0014\n",
      "Epoch 39/100\n",
      "149/149 [==============================] - 29s 194ms/step - loss: 8.1344e-06 - val_loss: 3.2772e-04\n",
      "Epoch 40/100\n",
      "149/149 [==============================] - 139s 932ms/step - loss: 8.7689e-06 - val_loss: 4.5031e-04\n",
      "Epoch 41/100\n",
      "149/149 [==============================] - 283s 2s/step - loss: 8.6225e-06 - val_loss: 0.0011\n",
      "Epoch 42/100\n",
      "149/149 [==============================] - 28s 190ms/step - loss: 8.0809e-06 - val_loss: 5.8429e-04\n",
      "Epoch 43/100\n",
      "149/149 [==============================] - 170s 1s/step - loss: 8.1919e-06 - val_loss: 5.7616e-04\n",
      "Epoch 44/100\n",
      "149/149 [==============================] - 38s 253ms/step - loss: 7.9313e-06 - val_loss: 3.3335e-04\n",
      "Epoch 45/100\n",
      "149/149 [==============================] - 33s 221ms/step - loss: 6.9793e-06 - val_loss: 4.6809e-04\n",
      "Epoch 46/100\n",
      "149/149 [==============================] - 33s 222ms/step - loss: 7.7601e-06 - val_loss: 2.9617e-04\n",
      "Epoch 47/100\n",
      "149/149 [==============================] - 32s 216ms/step - loss: 6.8730e-06 - val_loss: 2.1538e-04\n",
      "Epoch 48/100\n",
      "149/149 [==============================] - 33s 218ms/step - loss: 8.8411e-06 - val_loss: 4.7581e-04\n",
      "Epoch 49/100\n",
      "149/149 [==============================] - 33s 221ms/step - loss: 8.1999e-06 - val_loss: 3.3303e-04\n",
      "Epoch 50/100\n",
      "149/149 [==============================] - 33s 219ms/step - loss: 7.2758e-06 - val_loss: 1.5681e-04\n",
      "Epoch 51/100\n",
      "149/149 [==============================] - 33s 222ms/step - loss: 6.8249e-06 - val_loss: 7.0458e-04\n",
      "Epoch 52/100\n",
      "149/149 [==============================] - 33s 222ms/step - loss: 6.6653e-06 - val_loss: 1.6742e-04\n",
      "Epoch 53/100\n",
      "149/149 [==============================] - 33s 220ms/step - loss: 7.6042e-06 - val_loss: 5.5583e-04\n",
      "Epoch 54/100\n",
      "149/149 [==============================] - 33s 219ms/step - loss: 6.5153e-06 - val_loss: 4.2228e-04\n",
      "Epoch 55/100\n",
      "149/149 [==============================] - 33s 221ms/step - loss: 8.1067e-06 - val_loss: 4.5378e-04\n",
      "Epoch 56/100\n",
      "149/149 [==============================] - 33s 222ms/step - loss: 6.3451e-06 - val_loss: 6.2957e-04\n",
      "Epoch 57/100\n",
      "149/149 [==============================] - 33s 221ms/step - loss: 7.0892e-06 - val_loss: 3.4068e-04\n",
      "Epoch 58/100\n",
      "149/149 [==============================] - 33s 223ms/step - loss: 7.5856e-06 - val_loss: 5.3927e-04\n",
      "Epoch 59/100\n",
      "149/149 [==============================] - 32s 218ms/step - loss: 6.6306e-06 - val_loss: 5.9587e-04\n",
      "Epoch 60/100\n",
      "149/149 [==============================] - 33s 225ms/step - loss: 7.0530e-06 - val_loss: 4.6183e-04\n",
      "Epoch 61/100\n",
      "149/149 [==============================] - 34s 231ms/step - loss: 6.1255e-06 - val_loss: 3.0704e-04\n",
      "Epoch 62/100\n",
      "149/149 [==============================] - 33s 222ms/step - loss: 6.4936e-06 - val_loss: 2.7009e-04\n",
      "Epoch 63/100\n",
      "149/149 [==============================] - 33s 219ms/step - loss: 6.8744e-06 - val_loss: 2.4700e-04\n",
      "Epoch 64/100\n",
      "149/149 [==============================] - 33s 219ms/step - loss: 7.3153e-06 - val_loss: 2.8476e-04\n",
      "Epoch 65/100\n",
      "149/149 [==============================] - 34s 225ms/step - loss: 8.5067e-06 - val_loss: 4.6173e-04\n",
      "Epoch 66/100\n",
      "149/149 [==============================] - 33s 219ms/step - loss: 7.3634e-06 - val_loss: 4.7483e-04\n",
      "Epoch 67/100\n",
      "149/149 [==============================] - 32s 214ms/step - loss: 7.4506e-06 - val_loss: 5.3965e-04\n",
      "Epoch 68/100\n",
      "149/149 [==============================] - 33s 222ms/step - loss: 6.8314e-06 - val_loss: 2.1557e-04\n",
      "Epoch 69/100\n",
      "149/149 [==============================] - 33s 222ms/step - loss: 6.6303e-06 - val_loss: 5.5921e-04\n",
      "Epoch 70/100\n",
      "149/149 [==============================] - 33s 222ms/step - loss: 6.5072e-06 - val_loss: 2.3305e-04\n",
      "Epoch 71/100\n",
      "149/149 [==============================] - 33s 219ms/step - loss: 6.9989e-06 - val_loss: 3.5454e-04\n",
      "Epoch 72/100\n",
      "149/149 [==============================] - 34s 225ms/step - loss: 7.2980e-06 - val_loss: 0.0018\n",
      "Epoch 73/100\n",
      "149/149 [==============================] - 33s 222ms/step - loss: 6.4354e-06 - val_loss: 3.8233e-04\n",
      "Epoch 74/100\n",
      "149/149 [==============================] - 33s 219ms/step - loss: 6.4679e-06 - val_loss: 3.6094e-04\n",
      "Epoch 75/100\n",
      "149/149 [==============================] - 33s 219ms/step - loss: 7.1245e-06 - val_loss: 5.7211e-04\n",
      "Epoch 76/100\n",
      "149/149 [==============================] - 32s 217ms/step - loss: 6.4997e-06 - val_loss: 2.7534e-04\n",
      "Epoch 77/100\n",
      "149/149 [==============================] - 32s 212ms/step - loss: 6.1622e-06 - val_loss: 6.5187e-04\n",
      "Epoch 78/100\n",
      "149/149 [==============================] - 32s 216ms/step - loss: 5.9711e-06 - val_loss: 3.4390e-04\n",
      "Epoch 79/100\n",
      "149/149 [==============================] - 33s 221ms/step - loss: 6.4925e-06 - val_loss: 5.1972e-04\n",
      "Epoch 80/100\n",
      "149/149 [==============================] - 33s 219ms/step - loss: 6.1256e-06 - val_loss: 3.3322e-04\n",
      "Epoch 81/100\n",
      "149/149 [==============================] - 33s 222ms/step - loss: 5.5942e-06 - val_loss: 5.6554e-04\n",
      "Epoch 82/100\n",
      "149/149 [==============================] - 33s 220ms/step - loss: 7.0792e-06 - val_loss: 4.5436e-04\n",
      "Epoch 83/100\n",
      "149/149 [==============================] - 33s 222ms/step - loss: 6.4582e-06 - val_loss: 6.4598e-04\n",
      "Epoch 84/100\n",
      "149/149 [==============================] - 33s 223ms/step - loss: 5.5172e-06 - val_loss: 5.4777e-04\n",
      "Epoch 85/100\n",
      "149/149 [==============================] - 34s 225ms/step - loss: 6.3238e-06 - val_loss: 5.2718e-04\n",
      "Epoch 86/100\n",
      "149/149 [==============================] - 33s 220ms/step - loss: 6.5699e-06 - val_loss: 4.7782e-04\n",
      "Epoch 87/100\n",
      "149/149 [==============================] - 33s 220ms/step - loss: 6.4922e-06 - val_loss: 3.3133e-04\n",
      "Epoch 88/100\n",
      "149/149 [==============================] - 32s 218ms/step - loss: 5.8037e-06 - val_loss: 6.3167e-04\n",
      "Epoch 89/100\n",
      "149/149 [==============================] - 32s 218ms/step - loss: 5.9208e-06 - val_loss: 0.0013\n",
      "Epoch 90/100\n",
      "149/149 [==============================] - 32s 217ms/step - loss: 6.9860e-06 - val_loss: 5.2906e-04\n",
      "Epoch 91/100\n",
      "149/149 [==============================] - 33s 221ms/step - loss: 5.5922e-06 - val_loss: 6.2136e-04\n",
      "Epoch 92/100\n",
      "149/149 [==============================] - 33s 219ms/step - loss: 5.4522e-06 - val_loss: 4.1689e-04\n",
      "Epoch 93/100\n",
      "149/149 [==============================] - 33s 220ms/step - loss: 7.1449e-06 - val_loss: 6.2211e-04\n",
      "Epoch 94/100\n",
      "149/149 [==============================] - 33s 222ms/step - loss: 6.3323e-06 - val_loss: 5.1211e-04\n",
      "Epoch 95/100\n",
      "149/149 [==============================] - 32s 218ms/step - loss: 5.6319e-06 - val_loss: 6.5782e-04\n",
      "Epoch 96/100\n",
      "149/149 [==============================] - 33s 218ms/step - loss: 5.9723e-06 - val_loss: 0.0011\n",
      "Epoch 97/100\n",
      "149/149 [==============================] - 32s 218ms/step - loss: 5.9508e-06 - val_loss: 4.4466e-04\n",
      "Epoch 98/100\n",
      "149/149 [==============================] - 32s 218ms/step - loss: 6.1085e-06 - val_loss: 4.7144e-04\n",
      "Epoch 99/100\n",
      "149/149 [==============================] - 33s 220ms/step - loss: 6.4537e-06 - val_loss: 6.4190e-04\n",
      "Epoch 100/100\n",
      "149/149 [==============================] - 33s 221ms/step - loss: 5.3012e-06 - val_loss: 5.1409e-04\n"
     ]
    },
    {
     "data": {
      "text/plain": [
       "<tensorflow.python.keras.callbacks.History at 0x143689be0>"
      ]
     },
     "execution_count": 85,
     "metadata": {},
     "output_type": "execute_result"
    }
   ],
   "source": [
    "model.fit(X_train,y_train,validation_data=(X_test,ytest),epochs=100,batch_size=64,verbose=1)"
   ]
  },
  {
   "cell_type": "code",
   "execution_count": 86,
   "metadata": {},
   "outputs": [],
   "source": [
    "train_predict=model.predict(X_train)\n",
    "test_predict=model.predict(X_test)"
   ]
  },
  {
   "cell_type": "code",
   "execution_count": 87,
   "metadata": {},
   "outputs": [],
   "source": [
    "##Transformback to original form\n",
    "train_predict=scaler.inverse_transform(train_predict)\n",
    "test_predict=scaler.inverse_transform(test_predict)"
   ]
  },
  {
   "cell_type": "code",
   "execution_count": 88,
   "metadata": {},
   "outputs": [
    {
     "data": {
      "text/plain": [
       "14.158826352472243"
      ]
     },
     "execution_count": 88,
     "metadata": {},
     "output_type": "execute_result"
    }
   ],
   "source": [
    "### Calculate RMSE performance metrics\n",
    "import math\n",
    "from sklearn.metrics import mean_squared_error\n",
    "math.sqrt(mean_squared_error(y_train,train_predict))"
   ]
  },
  {
   "cell_type": "code",
   "execution_count": 89,
   "metadata": {},
   "outputs": [
    {
     "data": {
      "text/plain": [
       "69.36473022331859"
      ]
     },
     "execution_count": 89,
     "metadata": {},
     "output_type": "execute_result"
    }
   ],
   "source": [
    "### Test Data RMSE\n",
    "math.sqrt(mean_squared_error(y_test,test_predict))"
   ]
  },
  {
   "cell_type": "code",
   "execution_count": 124,
   "metadata": {},
   "outputs": [
    {
     "data": {
      "image/png": "[encoded data removed]",
      "text/plain": [
       "<Figure size 432x288 with 1 Axes>"
      ]
     },
     "metadata": {
      "needs_background": "light"
     },
     "output_type": "display_data"
    }
   ],
   "source": [
    "# shift train predictions for plotting\n",
    "look_back=100\n",
    "trainPredictPlot = numpy.empty_like(df1)\n",
    "trainPredictPlot[:, :] = np.nan\n",
    "trainPredictPlot[look_back:len(train_predict)+look_back, :] = train_predict\n",
    "# shift test predictions for plotting\n",
    "testPredictPlot = numpy.empty_like(df1)\n",
    "testPredictPlot[:, :] = numpy.nan\n",
    "testPredictPlot[len(train_predict)+(look_back*2)+1:len(df1)-1, :] = test_predict\n",
    "# plot baseline and predictions\n",
    "plt.plot(scaler.inverse_transform(df1))\n",
    "plt.plot(trainPredictPlot, color= 'r')\n",
    "plt.plot(testPredictPlot, color = 'g')\n",
    "plt.xlabel('Days', fontsize =18)\n",
    "plt.ylabel('Close Price USD($)', fontsize = 18)\n",
    "plt.legend(['train data','train Predictions','test Predictions'], loc='upper left')\n",
    "plt.title('LSTM Model')\n",
    "plt.show()"
   ]
  },
  {
   "cell_type": "code",
   "execution_count": 91,
   "metadata": {},
   "outputs": [
    {
     "data": {
      "text/plain": [
       "5178"
      ]
     },
     "execution_count": 91,
     "metadata": {},
     "output_type": "execute_result"
    }
   ],
   "source": [
    "len(test_data)"
   ]
  },
  {
   "cell_type": "code",
   "execution_count": 98,
   "metadata": {},
   "outputs": [
    {
     "data": {
      "text/plain": [
       "(1, 100)"
      ]
     },
     "execution_count": 98,
     "metadata": {},
     "output_type": "execute_result"
    }
   ],
   "source": [
    "x_input=test_data[5078:].reshape(1,-1)\n",
    "x_input.shape"
   ]
  },
  {
   "cell_type": "code",
   "execution_count": 99,
   "metadata": {},
   "outputs": [],
   "source": [
    "temp_input=list(x_input)\n",
    "temp_input=temp_input[0].tolist()"
   ]
  },
  {
   "cell_type": "code",
   "execution_count": 100,
   "metadata": {},
   "outputs": [
    {
     "data": {
      "text/plain": [
       "[0.8144671474466311,\n",
       " 0.8259286247357642,\n",
       " 0.7989225066058665,\n",
       " 0.8049397682139685,\n",
       " 0.7930484993160999,\n",
       " 0.8000686271137372,\n",
       " 0.7959854778889703,\n",
       " 0.8093094618925676,\n",
       " 0.8248541027333322,\n",
       " 0.8238512222169323,\n",
       " 0.833378601449595,\n",
       " 0.8391809672533292,\n",
       " 0.8425477875789609,\n",
       " 0.8247825042278936,\n",
       " 0.841115122617258,\n",
       " 0.8462728010078892,\n",
       " 0.8411867139592644,\n",
       " 0.8475622188146889,\n",
       " 0.8262868178390609,\n",
       " 0.8217022283560941,\n",
       " 0.8293670937108604,\n",
       " 0.8396824003480969,\n",
       " 0.838249735386394,\n",
       " 0.8479203617739598,\n",
       " 0.845341518996928,\n",
       " 0.8369603175795942,\n",
       " 0.836817070424691,\n",
       " 0.8274329383469315,\n",
       " 0.8379631909325618,\n",
       " 0.8189084897746947,\n",
       " 0.8363156373299234,\n",
       " 0.8499977642927915,\n",
       " 0.8529347930096878,\n",
       " 0.859381839063093,\n",
       " 0.8647544132580919,\n",
       " 0.86898086694522,\n",
       " 0.8737803522325546,\n",
       " 0.8708433736596841,\n",
       " 0.8809437844925531,\n",
       " 0.882089962307882,\n",
       " 0.8895398817142546,\n",
       " 0.8853134853345844,\n",
       " 0.8871759920490486,\n",
       " 0.8934081422980861,\n",
       " 0.8906144108801188,\n",
       " 0.8893966417227835,\n",
       " 0.8970615070775498,\n",
       " 0.897204811539911,\n",
       " 0.89577208927075,\n",
       " 0.8983509320477817,\n",
       " 0.9095258648830827,\n",
       " 0.9126061479183144,\n",
       " 0.9348844222469098,\n",
       " 0.9327353710786135,\n",
       " 0.9339531402359487,\n",
       " 0.951861720885945,\n",
       " 0.949354584065836,\n",
       " 0.9441253143331985,\n",
       " 0.9501425687778682,\n",
       " 0.9540824780111642,\n",
       " 0.9478502203106427,\n",
       " 0.9638247530481945,\n",
       " 0.9661169940639358,\n",
       " 0.9612459102711627,\n",
       " 0.9641112401945685,\n",
       " 0.9713462709600058,\n",
       " 0.9660453955584971,\n",
       " 0.9737819167261601,\n",
       " 0.9780083131058301,\n",
       " 0.9856731354800029,\n",
       " 0.9896130447132989,\n",
       " 0.984813552262532,\n",
       " 0.9835241917631905,\n",
       " 0.9875356923384928,\n",
       " 0.9843837678172289,\n",
       " 0.9833091885073387,\n",
       " 1.0,\n",
       " 0.9838822774150032,\n",
       " 0.9817333336981908,\n",
       " 0.9672631647158323,\n",
       " 0.983094292702971,\n",
       " 0.9727073374162699,\n",
       " 0.9830226941975323,\n",
       " 0.9865328189855254,\n",
       " 0.9865328189855254,\n",
       " 0.9798707696762685,\n",
       " 0.9785814020134946,\n",
       " 0.9775068227036044,\n",
       " 0.9727790433731927,\n",
       " 0.9817333336981908,\n",
       " 0.9699136059983029,\n",
       " 0.9742832996769019,\n",
       " 0.979297680768604,\n",
       " 0.9820914193500035,\n",
       " 0.9767188451550046,\n",
       " 0.9891116545991248,\n",
       " 0.9909025126641243,\n",
       " 0.9828793968986033,\n",
       " 0.9919769845225305,\n",
       " 0.9935529539465948]"
      ]
     },
     "execution_count": 100,
     "metadata": {},
     "output_type": "execute_result"
    }
   ],
   "source": [
    "temp_input"
   ]
  },
  {
   "cell_type": "code",
   "execution_count": 101,
   "metadata": {},
   "outputs": [
    {
     "name": "stdout",
     "output_type": "stream",
     "text": [
      "[0.8839928]\n",
      "101\n",
      "1 day input [0.82592862 0.79892251 0.80493977 0.7930485  0.80006863 0.79598548\n",
      " 0.80930946 0.8248541  0.82385122 0.8333786  0.83918097 0.84254779\n",
      " 0.8247825  0.84111512 0.8462728  0.84118671 0.84756222 0.82628682\n",
      " 0.82170223 0.82936709 0.8396824  0.83824974 0.84792036 0.84534152\n",
      " 0.83696032 0.83681707 0.82743294 0.83796319 0.81890849 0.83631564\n",
      " 0.84999776 0.85293479 0.85938184 0.86475441 0.86898087 0.87378035\n",
      " 0.87084337 0.88094378 0.88208996 0.88953988 0.88531349 0.88717599\n",
      " 0.89340814 0.89061441 0.88939664 0.89706151 0.89720481 0.89577209\n",
      " 0.89835093 0.90952586 0.91260615 0.93488442 0.93273537 0.93395314\n",
      " 0.95186172 0.94935458 0.94412531 0.95014257 0.95408248 0.94785022\n",
      " 0.96382475 0.96611699 0.96124591 0.96411124 0.97134627 0.9660454\n",
      " 0.97378192 0.97800831 0.98567314 0.98961304 0.98481355 0.98352419\n",
      " 0.98753569 0.98438377 0.98330919 1.         0.98388228 0.98173333\n",
      " 0.96726316 0.98309429 0.97270734 0.98302269 0.98653282 0.98653282\n",
      " 0.97987077 0.9785814  0.97750682 0.97277904 0.98173333 0.96991361\n",
      " 0.9742833  0.97929768 0.98209142 0.97671885 0.98911165 0.99090251\n",
      " 0.9828794  0.99197698 0.99355295 0.88399279]\n",
      "1 day output [[0.77664965]]\n",
      "2 day input [0.79892251 0.80493977 0.7930485  0.80006863 0.79598548 0.80930946\n",
      " 0.8248541  0.82385122 0.8333786  0.83918097 0.84254779 0.8247825\n",
      " 0.84111512 0.8462728  0.84118671 0.84756222 0.82628682 0.82170223\n",
      " 0.82936709 0.8396824  0.83824974 0.84792036 0.84534152 0.83696032\n",
      " 0.83681707 0.82743294 0.83796319 0.81890849 0.83631564 0.84999776\n",
      " 0.85293479 0.85938184 0.86475441 0.86898087 0.87378035 0.87084337\n",
      " 0.88094378 0.88208996 0.88953988 0.88531349 0.88717599 0.89340814\n",
      " 0.89061441 0.88939664 0.89706151 0.89720481 0.89577209 0.89835093\n",
      " 0.90952586 0.91260615 0.93488442 0.93273537 0.93395314 0.95186172\n",
      " 0.94935458 0.94412531 0.95014257 0.95408248 0.94785022 0.96382475\n",
      " 0.96611699 0.96124591 0.96411124 0.97134627 0.9660454  0.97378192\n",
      " 0.97800831 0.98567314 0.98961304 0.98481355 0.98352419 0.98753569\n",
      " 0.98438377 0.98330919 1.         0.98388228 0.98173333 0.96726316\n",
      " 0.98309429 0.97270734 0.98302269 0.98653282 0.98653282 0.97987077\n",
      " 0.9785814  0.97750682 0.97277904 0.98173333 0.96991361 0.9742833\n",
      " 0.97929768 0.98209142 0.97671885 0.98911165 0.99090251 0.9828794\n",
      " 0.99197698 0.99355295 0.88399279 0.77664965]\n",
      "2 day output [[0.70613176]]\n",
      "3 day input [0.80493977 0.7930485  0.80006863 0.79598548 0.80930946 0.8248541\n",
      " 0.82385122 0.8333786  0.83918097 0.84254779 0.8247825  0.84111512\n",
      " 0.8462728  0.84118671 0.84756222 0.82628682 0.82170223 0.82936709\n",
      " 0.8396824  0.83824974 0.84792036 0.84534152 0.83696032 0.83681707\n",
      " 0.82743294 0.83796319 0.81890849 0.83631564 0.84999776 0.85293479\n",
      " 0.85938184 0.86475441 0.86898087 0.87378035 0.87084337 0.88094378\n",
      " 0.88208996 0.88953988 0.88531349 0.88717599 0.89340814 0.89061441\n",
      " 0.88939664 0.89706151 0.89720481 0.89577209 0.89835093 0.90952586\n",
      " 0.91260615 0.93488442 0.93273537 0.93395314 0.95186172 0.94935458\n",
      " 0.94412531 0.95014257 0.95408248 0.94785022 0.96382475 0.96611699\n",
      " 0.96124591 0.96411124 0.97134627 0.9660454  0.97378192 0.97800831\n",
      " 0.98567314 0.98961304 0.98481355 0.98352419 0.98753569 0.98438377\n",
      " 0.98330919 1.         0.98388228 0.98173333 0.96726316 0.98309429\n",
      " 0.97270734 0.98302269 0.98653282 0.98653282 0.97987077 0.9785814\n",
      " 0.97750682 0.97277904 0.98173333 0.96991361 0.9742833  0.97929768\n",
      " 0.98209142 0.97671885 0.98911165 0.99090251 0.9828794  0.99197698\n",
      " 0.99355295 0.88399279 0.77664965 0.70613176]\n",
      "3 day output [[0.665271]]\n",
      "4 day input [0.7930485  0.80006863 0.79598548 0.80930946 0.8248541  0.82385122\n",
      " 0.8333786  0.83918097 0.84254779 0.8247825  0.84111512 0.8462728\n",
      " 0.84118671 0.84756222 0.82628682 0.82170223 0.82936709 0.8396824\n",
      " 0.83824974 0.84792036 0.84534152 0.83696032 0.83681707 0.82743294\n",
      " 0.83796319 0.81890849 0.83631564 0.84999776 0.85293479 0.85938184\n",
      " 0.86475441 0.86898087 0.87378035 0.87084337 0.88094378 0.88208996\n",
      " 0.88953988 0.88531349 0.88717599 0.89340814 0.89061441 0.88939664\n",
      " 0.89706151 0.89720481 0.89577209 0.89835093 0.90952586 0.91260615\n",
      " 0.93488442 0.93273537 0.93395314 0.95186172 0.94935458 0.94412531\n",
      " 0.95014257 0.95408248 0.94785022 0.96382475 0.96611699 0.96124591\n",
      " 0.96411124 0.97134627 0.9660454  0.97378192 0.97800831 0.98567314\n",
      " 0.98961304 0.98481355 0.98352419 0.98753569 0.98438377 0.98330919\n",
      " 1.         0.98388228 0.98173333 0.96726316 0.98309429 0.97270734\n",
      " 0.98302269 0.98653282 0.98653282 0.97987077 0.9785814  0.97750682\n",
      " 0.97277904 0.98173333 0.96991361 0.9742833  0.97929768 0.98209142\n",
      " 0.97671885 0.98911165 0.99090251 0.9828794  0.99197698 0.99355295\n",
      " 0.88399279 0.77664965 0.70613176 0.66527098]\n",
      "4 day output [[0.6437844]]\n",
      "5 day input [0.80006863 0.79598548 0.80930946 0.8248541  0.82385122 0.8333786\n",
      " 0.83918097 0.84254779 0.8247825  0.84111512 0.8462728  0.84118671\n",
      " 0.84756222 0.82628682 0.82170223 0.82936709 0.8396824  0.83824974\n",
      " 0.84792036 0.84534152 0.83696032 0.83681707 0.82743294 0.83796319\n",
      " 0.81890849 0.83631564 0.84999776 0.85293479 0.85938184 0.86475441\n",
      " 0.86898087 0.87378035 0.87084337 0.88094378 0.88208996 0.88953988\n",
      " 0.88531349 0.88717599 0.89340814 0.89061441 0.88939664 0.89706151\n",
      " 0.89720481 0.89577209 0.89835093 0.90952586 0.91260615 0.93488442\n",
      " 0.93273537 0.93395314 0.95186172 0.94935458 0.94412531 0.95014257\n",
      " 0.95408248 0.94785022 0.96382475 0.96611699 0.96124591 0.96411124\n",
      " 0.97134627 0.9660454  0.97378192 0.97800831 0.98567314 0.98961304\n",
      " 0.98481355 0.98352419 0.98753569 0.98438377 0.98330919 1.\n",
      " 0.98388228 0.98173333 0.96726316 0.98309429 0.97270734 0.98302269\n",
      " 0.98653282 0.98653282 0.97987077 0.9785814  0.97750682 0.97277904\n",
      " 0.98173333 0.96991361 0.9742833  0.97929768 0.98209142 0.97671885\n",
      " 0.98911165 0.99090251 0.9828794  0.99197698 0.99355295 0.88399279\n",
      " 0.77664965 0.70613176 0.66527098 0.6437844 ]\n",
      "5 day output [[0.6295011]]\n",
      "6 day input [0.79598548 0.80930946 0.8248541  0.82385122 0.8333786  0.83918097\n",
      " 0.84254779 0.8247825  0.84111512 0.8462728  0.84118671 0.84756222\n",
      " 0.82628682 0.82170223 0.82936709 0.8396824  0.83824974 0.84792036\n",
      " 0.84534152 0.83696032 0.83681707 0.82743294 0.83796319 0.81890849\n",
      " 0.83631564 0.84999776 0.85293479 0.85938184 0.86475441 0.86898087\n",
      " 0.87378035 0.87084337 0.88094378 0.88208996 0.88953988 0.88531349\n",
      " 0.88717599 0.89340814 0.89061441 0.88939664 0.89706151 0.89720481\n",
      " 0.89577209 0.89835093 0.90952586 0.91260615 0.93488442 0.93273537\n",
      " 0.93395314 0.95186172 0.94935458 0.94412531 0.95014257 0.95408248\n",
      " 0.94785022 0.96382475 0.96611699 0.96124591 0.96411124 0.97134627\n",
      " 0.9660454  0.97378192 0.97800831 0.98567314 0.98961304 0.98481355\n",
      " 0.98352419 0.98753569 0.98438377 0.98330919 1.         0.98388228\n",
      " 0.98173333 0.96726316 0.98309429 0.97270734 0.98302269 0.98653282\n",
      " 0.98653282 0.97987077 0.9785814  0.97750682 0.97277904 0.98173333\n",
      " 0.96991361 0.9742833  0.97929768 0.98209142 0.97671885 0.98911165\n",
      " 0.99090251 0.9828794  0.99197698 0.99355295 0.88399279 0.77664965\n",
      " 0.70613176 0.66527098 0.6437844  0.6295011 ]\n",
      "6 day output [[0.61434364]]\n",
      "7 day input [0.80930946 0.8248541  0.82385122 0.8333786  0.83918097 0.84254779\n",
      " 0.8247825  0.84111512 0.8462728  0.84118671 0.84756222 0.82628682\n",
      " 0.82170223 0.82936709 0.8396824  0.83824974 0.84792036 0.84534152\n",
      " 0.83696032 0.83681707 0.82743294 0.83796319 0.81890849 0.83631564\n",
      " 0.84999776 0.85293479 0.85938184 0.86475441 0.86898087 0.87378035\n",
      " 0.87084337 0.88094378 0.88208996 0.88953988 0.88531349 0.88717599\n",
      " 0.89340814 0.89061441 0.88939664 0.89706151 0.89720481 0.89577209\n",
      " 0.89835093 0.90952586 0.91260615 0.93488442 0.93273537 0.93395314\n",
      " 0.95186172 0.94935458 0.94412531 0.95014257 0.95408248 0.94785022\n",
      " 0.96382475 0.96611699 0.96124591 0.96411124 0.97134627 0.9660454\n",
      " 0.97378192 0.97800831 0.98567314 0.98961304 0.98481355 0.98352419\n",
      " 0.98753569 0.98438377 0.98330919 1.         0.98388228 0.98173333\n",
      " 0.96726316 0.98309429 0.97270734 0.98302269 0.98653282 0.98653282\n",
      " 0.97987077 0.9785814  0.97750682 0.97277904 0.98173333 0.96991361\n",
      " 0.9742833  0.97929768 0.98209142 0.97671885 0.98911165 0.99090251\n",
      " 0.9828794  0.99197698 0.99355295 0.88399279 0.77664965 0.70613176\n",
      " 0.66527098 0.6437844  0.6295011  0.61434364]\n",
      "7 day output [[0.5956011]]\n",
      "8 day input [0.8248541  0.82385122 0.8333786  0.83918097 0.84254779 0.8247825\n",
      " 0.84111512 0.8462728  0.84118671 0.84756222 0.82628682 0.82170223\n",
      " 0.82936709 0.8396824  0.83824974 0.84792036 0.84534152 0.83696032\n",
      " 0.83681707 0.82743294 0.83796319 0.81890849 0.83631564 0.84999776\n",
      " 0.85293479 0.85938184 0.86475441 0.86898087 0.87378035 0.87084337\n",
      " 0.88094378 0.88208996 0.88953988 0.88531349 0.88717599 0.89340814\n",
      " 0.89061441 0.88939664 0.89706151 0.89720481 0.89577209 0.89835093\n",
      " 0.90952586 0.91260615 0.93488442 0.93273537 0.93395314 0.95186172\n",
      " 0.94935458 0.94412531 0.95014257 0.95408248 0.94785022 0.96382475\n",
      " 0.96611699 0.96124591 0.96411124 0.97134627 0.9660454  0.97378192\n",
      " 0.97800831 0.98567314 0.98961304 0.98481355 0.98352419 0.98753569\n",
      " 0.98438377 0.98330919 1.         0.98388228 0.98173333 0.96726316\n",
      " 0.98309429 0.97270734 0.98302269 0.98653282 0.98653282 0.97987077\n",
      " 0.9785814  0.97750682 0.97277904 0.98173333 0.96991361 0.9742833\n",
      " 0.97929768 0.98209142 0.97671885 0.98911165 0.99090251 0.9828794\n",
      " 0.99197698 0.99355295 0.88399279 0.77664965 0.70613176 0.66527098\n",
      " 0.6437844  0.6295011  0.61434364 0.59560108]\n",
      "8 day output [[0.5742282]]\n",
      "9 day input [0.82385122 0.8333786  0.83918097 0.84254779 0.8247825  0.84111512\n",
      " 0.8462728  0.84118671 0.84756222 0.82628682 0.82170223 0.82936709\n",
      " 0.8396824  0.83824974 0.84792036 0.84534152 0.83696032 0.83681707\n",
      " 0.82743294 0.83796319 0.81890849 0.83631564 0.84999776 0.85293479\n",
      " 0.85938184 0.86475441 0.86898087 0.87378035 0.87084337 0.88094378\n",
      " 0.88208996 0.88953988 0.88531349 0.88717599 0.89340814 0.89061441\n",
      " 0.88939664 0.89706151 0.89720481 0.89577209 0.89835093 0.90952586\n",
      " 0.91260615 0.93488442 0.93273537 0.93395314 0.95186172 0.94935458\n",
      " 0.94412531 0.95014257 0.95408248 0.94785022 0.96382475 0.96611699\n",
      " 0.96124591 0.96411124 0.97134627 0.9660454  0.97378192 0.97800831\n",
      " 0.98567314 0.98961304 0.98481355 0.98352419 0.98753569 0.98438377\n",
      " 0.98330919 1.         0.98388228 0.98173333 0.96726316 0.98309429\n",
      " 0.97270734 0.98302269 0.98653282 0.98653282 0.97987077 0.9785814\n",
      " 0.97750682 0.97277904 0.98173333 0.96991361 0.9742833  0.97929768\n",
      " 0.98209142 0.97671885 0.98911165 0.99090251 0.9828794  0.99197698\n",
      " 0.99355295 0.88399279 0.77664965 0.70613176 0.66527098 0.6437844\n",
      " 0.6295011  0.61434364 0.59560108 0.57422823]\n",
      "9 day output [[0.5525544]]\n",
      "10 day input [0.8333786  0.83918097 0.84254779 0.8247825  0.84111512 0.8462728\n",
      " 0.84118671 0.84756222 0.82628682 0.82170223 0.82936709 0.8396824\n",
      " 0.83824974 0.84792036 0.84534152 0.83696032 0.83681707 0.82743294\n",
      " 0.83796319 0.81890849 0.83631564 0.84999776 0.85293479 0.85938184\n",
      " 0.86475441 0.86898087 0.87378035 0.87084337 0.88094378 0.88208996\n",
      " 0.88953988 0.88531349 0.88717599 0.89340814 0.89061441 0.88939664\n",
      " 0.89706151 0.89720481 0.89577209 0.89835093 0.90952586 0.91260615\n",
      " 0.93488442 0.93273537 0.93395314 0.95186172 0.94935458 0.94412531\n",
      " 0.95014257 0.95408248 0.94785022 0.96382475 0.96611699 0.96124591\n",
      " 0.96411124 0.97134627 0.9660454  0.97378192 0.97800831 0.98567314\n",
      " 0.98961304 0.98481355 0.98352419 0.98753569 0.98438377 0.98330919\n",
      " 1.         0.98388228 0.98173333 0.96726316 0.98309429 0.97270734\n",
      " 0.98302269 0.98653282 0.98653282 0.97987077 0.9785814  0.97750682\n",
      " 0.97277904 0.98173333 0.96991361 0.9742833  0.97929768 0.98209142\n",
      " 0.97671885 0.98911165 0.99090251 0.9828794  0.99197698 0.99355295\n",
      " 0.88399279 0.77664965 0.70613176 0.66527098 0.6437844  0.6295011\n",
      " 0.61434364 0.59560108 0.57422823 0.55255443]\n",
      "10 day output [[0.53266037]]\n",
      "11 day input [0.83918097 0.84254779 0.8247825  0.84111512 0.8462728  0.84118671\n",
      " 0.84756222 0.82628682 0.82170223 0.82936709 0.8396824  0.83824974\n",
      " 0.84792036 0.84534152 0.83696032 0.83681707 0.82743294 0.83796319\n",
      " 0.81890849 0.83631564 0.84999776 0.85293479 0.85938184 0.86475441\n",
      " 0.86898087 0.87378035 0.87084337 0.88094378 0.88208996 0.88953988\n",
      " 0.88531349 0.88717599 0.89340814 0.89061441 0.88939664 0.89706151\n",
      " 0.89720481 0.89577209 0.89835093 0.90952586 0.91260615 0.93488442\n",
      " 0.93273537 0.93395314 0.95186172 0.94935458 0.94412531 0.95014257\n",
      " 0.95408248 0.94785022 0.96382475 0.96611699 0.96124591 0.96411124\n",
      " 0.97134627 0.9660454  0.97378192 0.97800831 0.98567314 0.98961304\n",
      " 0.98481355 0.98352419 0.98753569 0.98438377 0.98330919 1.\n",
      " 0.98388228 0.98173333 0.96726316 0.98309429 0.97270734 0.98302269\n",
      " 0.98653282 0.98653282 0.97987077 0.9785814  0.97750682 0.97277904\n",
      " 0.98173333 0.96991361 0.9742833  0.97929768 0.98209142 0.97671885\n",
      " 0.98911165 0.99090251 0.9828794  0.99197698 0.99355295 0.88399279\n",
      " 0.77664965 0.70613176 0.66527098 0.6437844  0.6295011  0.61434364\n",
      " 0.59560108 0.57422823 0.55255443 0.53266037]\n",
      "11 day output [[0.5156669]]\n",
      "12 day input [0.84254779 0.8247825  0.84111512 0.8462728  0.84118671 0.84756222\n",
      " 0.82628682 0.82170223 0.82936709 0.8396824  0.83824974 0.84792036\n",
      " 0.84534152 0.83696032 0.83681707 0.82743294 0.83796319 0.81890849\n",
      " 0.83631564 0.84999776 0.85293479 0.85938184 0.86475441 0.86898087\n",
      " 0.87378035 0.87084337 0.88094378 0.88208996 0.88953988 0.88531349\n",
      " 0.88717599 0.89340814 0.89061441 0.88939664 0.89706151 0.89720481\n",
      " 0.89577209 0.89835093 0.90952586 0.91260615 0.93488442 0.93273537\n",
      " 0.93395314 0.95186172 0.94935458 0.94412531 0.95014257 0.95408248\n",
      " 0.94785022 0.96382475 0.96611699 0.96124591 0.96411124 0.97134627\n",
      " 0.9660454  0.97378192 0.97800831 0.98567314 0.98961304 0.98481355\n",
      " 0.98352419 0.98753569 0.98438377 0.98330919 1.         0.98388228\n",
      " 0.98173333 0.96726316 0.98309429 0.97270734 0.98302269 0.98653282\n",
      " 0.98653282 0.97987077 0.9785814  0.97750682 0.97277904 0.98173333\n",
      " 0.96991361 0.9742833  0.97929768 0.98209142 0.97671885 0.98911165\n",
      " 0.99090251 0.9828794  0.99197698 0.99355295 0.88399279 0.77664965\n",
      " 0.70613176 0.66527098 0.6437844  0.6295011  0.61434364 0.59560108\n",
      " 0.57422823 0.55255443 0.53266037 0.5156669 ]\n",
      "12 day output [[0.5017089]]\n",
      "13 day input [0.8247825  0.84111512 0.8462728  0.84118671 0.84756222 0.82628682\n",
      " 0.82170223 0.82936709 0.8396824  0.83824974 0.84792036 0.84534152\n",
      " 0.83696032 0.83681707 0.82743294 0.83796319 0.81890849 0.83631564\n",
      " 0.84999776 0.85293479 0.85938184 0.86475441 0.86898087 0.87378035\n",
      " 0.87084337 0.88094378 0.88208996 0.88953988 0.88531349 0.88717599\n",
      " 0.89340814 0.89061441 0.88939664 0.89706151 0.89720481 0.89577209\n",
      " 0.89835093 0.90952586 0.91260615 0.93488442 0.93273537 0.93395314\n",
      " 0.95186172 0.94935458 0.94412531 0.95014257 0.95408248 0.94785022\n",
      " 0.96382475 0.96611699 0.96124591 0.96411124 0.97134627 0.9660454\n",
      " 0.97378192 0.97800831 0.98567314 0.98961304 0.98481355 0.98352419\n",
      " 0.98753569 0.98438377 0.98330919 1.         0.98388228 0.98173333\n",
      " 0.96726316 0.98309429 0.97270734 0.98302269 0.98653282 0.98653282\n",
      " 0.97987077 0.9785814  0.97750682 0.97277904 0.98173333 0.96991361\n",
      " 0.9742833  0.97929768 0.98209142 0.97671885 0.98911165 0.99090251\n",
      " 0.9828794  0.99197698 0.99355295 0.88399279 0.77664965 0.70613176\n",
      " 0.66527098 0.6437844  0.6295011  0.61434364 0.59560108 0.57422823\n",
      " 0.55255443 0.53266037 0.5156669  0.50170892]\n",
      "13 day output [[0.4902754]]\n",
      "14 day input [0.84111512 0.8462728  0.84118671 0.84756222 0.82628682 0.82170223\n",
      " 0.82936709 0.8396824  0.83824974 0.84792036 0.84534152 0.83696032\n",
      " 0.83681707 0.82743294 0.83796319 0.81890849 0.83631564 0.84999776\n",
      " 0.85293479 0.85938184 0.86475441 0.86898087 0.87378035 0.87084337\n",
      " 0.88094378 0.88208996 0.88953988 0.88531349 0.88717599 0.89340814\n",
      " 0.89061441 0.88939664 0.89706151 0.89720481 0.89577209 0.89835093\n",
      " 0.90952586 0.91260615 0.93488442 0.93273537 0.93395314 0.95186172\n",
      " 0.94935458 0.94412531 0.95014257 0.95408248 0.94785022 0.96382475\n",
      " 0.96611699 0.96124591 0.96411124 0.97134627 0.9660454  0.97378192\n",
      " 0.97800831 0.98567314 0.98961304 0.98481355 0.98352419 0.98753569\n",
      " 0.98438377 0.98330919 1.         0.98388228 0.98173333 0.96726316\n",
      " 0.98309429 0.97270734 0.98302269 0.98653282 0.98653282 0.97987077\n",
      " 0.9785814  0.97750682 0.97277904 0.98173333 0.96991361 0.9742833\n",
      " 0.97929768 0.98209142 0.97671885 0.98911165 0.99090251 0.9828794\n",
      " 0.99197698 0.99355295 0.88399279 0.77664965 0.70613176 0.66527098\n",
      " 0.6437844  0.6295011  0.61434364 0.59560108 0.57422823 0.55255443\n",
      " 0.53266037 0.5156669  0.50170892 0.49027541]\n",
      "14 day output [[0.48063013]]\n",
      "15 day input [0.8462728  0.84118671 0.84756222 0.82628682 0.82170223 0.82936709\n",
      " 0.8396824  0.83824974 0.84792036 0.84534152 0.83696032 0.83681707\n",
      " 0.82743294 0.83796319 0.81890849 0.83631564 0.84999776 0.85293479\n",
      " 0.85938184 0.86475441 0.86898087 0.87378035 0.87084337 0.88094378\n",
      " 0.88208996 0.88953988 0.88531349 0.88717599 0.89340814 0.89061441\n",
      " 0.88939664 0.89706151 0.89720481 0.89577209 0.89835093 0.90952586\n",
      " 0.91260615 0.93488442 0.93273537 0.93395314 0.95186172 0.94935458\n",
      " 0.94412531 0.95014257 0.95408248 0.94785022 0.96382475 0.96611699\n",
      " 0.96124591 0.96411124 0.97134627 0.9660454  0.97378192 0.97800831\n",
      " 0.98567314 0.98961304 0.98481355 0.98352419 0.98753569 0.98438377\n",
      " 0.98330919 1.         0.98388228 0.98173333 0.96726316 0.98309429\n",
      " 0.97270734 0.98302269 0.98653282 0.98653282 0.97987077 0.9785814\n",
      " 0.97750682 0.97277904 0.98173333 0.96991361 0.9742833  0.97929768\n",
      " 0.98209142 0.97671885 0.98911165 0.99090251 0.9828794  0.99197698\n",
      " 0.99355295 0.88399279 0.77664965 0.70613176 0.66527098 0.6437844\n",
      " 0.6295011  0.61434364 0.59560108 0.57422823 0.55255443 0.53266037\n",
      " 0.5156669  0.50170892 0.49027541 0.48063013]\n",
      "15 day output [[0.47212335]]\n",
      "16 day input [0.84118671 0.84756222 0.82628682 0.82170223 0.82936709 0.8396824\n",
      " 0.83824974 0.84792036 0.84534152 0.83696032 0.83681707 0.82743294\n",
      " 0.83796319 0.81890849 0.83631564 0.84999776 0.85293479 0.85938184\n",
      " 0.86475441 0.86898087 0.87378035 0.87084337 0.88094378 0.88208996\n",
      " 0.88953988 0.88531349 0.88717599 0.89340814 0.89061441 0.88939664\n",
      " 0.89706151 0.89720481 0.89577209 0.89835093 0.90952586 0.91260615\n",
      " 0.93488442 0.93273537 0.93395314 0.95186172 0.94935458 0.94412531\n",
      " 0.95014257 0.95408248 0.94785022 0.96382475 0.96611699 0.96124591\n",
      " 0.96411124 0.97134627 0.9660454  0.97378192 0.97800831 0.98567314\n",
      " 0.98961304 0.98481355 0.98352419 0.98753569 0.98438377 0.98330919\n",
      " 1.         0.98388228 0.98173333 0.96726316 0.98309429 0.97270734\n",
      " 0.98302269 0.98653282 0.98653282 0.97987077 0.9785814  0.97750682\n",
      " 0.97277904 0.98173333 0.96991361 0.9742833  0.97929768 0.98209142\n",
      " 0.97671885 0.98911165 0.99090251 0.9828794  0.99197698 0.99355295\n",
      " 0.88399279 0.77664965 0.70613176 0.66527098 0.6437844  0.6295011\n",
      " 0.61434364 0.59560108 0.57422823 0.55255443 0.53266037 0.5156669\n",
      " 0.50170892 0.49027541 0.48063013 0.47212335]\n",
      "16 day output [[0.46433735]]\n",
      "17 day input [0.84756222 0.82628682 0.82170223 0.82936709 0.8396824  0.83824974\n",
      " 0.84792036 0.84534152 0.83696032 0.83681707 0.82743294 0.83796319\n",
      " 0.81890849 0.83631564 0.84999776 0.85293479 0.85938184 0.86475441\n",
      " 0.86898087 0.87378035 0.87084337 0.88094378 0.88208996 0.88953988\n",
      " 0.88531349 0.88717599 0.89340814 0.89061441 0.88939664 0.89706151\n",
      " 0.89720481 0.89577209 0.89835093 0.90952586 0.91260615 0.93488442\n",
      " 0.93273537 0.93395314 0.95186172 0.94935458 0.94412531 0.95014257\n",
      " 0.95408248 0.94785022 0.96382475 0.96611699 0.96124591 0.96411124\n",
      " 0.97134627 0.9660454  0.97378192 0.97800831 0.98567314 0.98961304\n",
      " 0.98481355 0.98352419 0.98753569 0.98438377 0.98330919 1.\n",
      " 0.98388228 0.98173333 0.96726316 0.98309429 0.97270734 0.98302269\n",
      " 0.98653282 0.98653282 0.97987077 0.9785814  0.97750682 0.97277904\n",
      " 0.98173333 0.96991361 0.9742833  0.97929768 0.98209142 0.97671885\n",
      " 0.98911165 0.99090251 0.9828794  0.99197698 0.99355295 0.88399279\n",
      " 0.77664965 0.70613176 0.66527098 0.6437844  0.6295011  0.61434364\n",
      " 0.59560108 0.57422823 0.55255443 0.53266037 0.5156669  0.50170892\n",
      " 0.49027541 0.48063013 0.47212335 0.46433735]\n",
      "17 day output [[0.4570884]]\n",
      "18 day input [0.82628682 0.82170223 0.82936709 0.8396824  0.83824974 0.84792036\n",
      " 0.84534152 0.83696032 0.83681707 0.82743294 0.83796319 0.81890849\n",
      " 0.83631564 0.84999776 0.85293479 0.85938184 0.86475441 0.86898087\n",
      " 0.87378035 0.87084337 0.88094378 0.88208996 0.88953988 0.88531349\n",
      " 0.88717599 0.89340814 0.89061441 0.88939664 0.89706151 0.89720481\n",
      " 0.89577209 0.89835093 0.90952586 0.91260615 0.93488442 0.93273537\n",
      " 0.93395314 0.95186172 0.94935458 0.94412531 0.95014257 0.95408248\n",
      " 0.94785022 0.96382475 0.96611699 0.96124591 0.96411124 0.97134627\n",
      " 0.9660454  0.97378192 0.97800831 0.98567314 0.98961304 0.98481355\n",
      " 0.98352419 0.98753569 0.98438377 0.98330919 1.         0.98388228\n",
      " 0.98173333 0.96726316 0.98309429 0.97270734 0.98302269 0.98653282\n",
      " 0.98653282 0.97987077 0.9785814  0.97750682 0.97277904 0.98173333\n",
      " 0.96991361 0.9742833  0.97929768 0.98209142 0.97671885 0.98911165\n",
      " 0.99090251 0.9828794  0.99197698 0.99355295 0.88399279 0.77664965\n",
      " 0.70613176 0.66527098 0.6437844  0.6295011  0.61434364 0.59560108\n",
      " 0.57422823 0.55255443 0.53266037 0.5156669  0.50170892 0.49027541\n",
      " 0.48063013 0.47212335 0.46433735 0.45708841]\n",
      "18 day output [[0.45035234]]\n",
      "19 day input [0.82170223 0.82936709 0.8396824  0.83824974 0.84792036 0.84534152\n",
      " 0.83696032 0.83681707 0.82743294 0.83796319 0.81890849 0.83631564\n",
      " 0.84999776 0.85293479 0.85938184 0.86475441 0.86898087 0.87378035\n",
      " 0.87084337 0.88094378 0.88208996 0.88953988 0.88531349 0.88717599\n",
      " 0.89340814 0.89061441 0.88939664 0.89706151 0.89720481 0.89577209\n",
      " 0.89835093 0.90952586 0.91260615 0.93488442 0.93273537 0.93395314\n",
      " 0.95186172 0.94935458 0.94412531 0.95014257 0.95408248 0.94785022\n",
      " 0.96382475 0.96611699 0.96124591 0.96411124 0.97134627 0.9660454\n",
      " 0.97378192 0.97800831 0.98567314 0.98961304 0.98481355 0.98352419\n",
      " 0.98753569 0.98438377 0.98330919 1.         0.98388228 0.98173333\n",
      " 0.96726316 0.98309429 0.97270734 0.98302269 0.98653282 0.98653282\n",
      " 0.97987077 0.9785814  0.97750682 0.97277904 0.98173333 0.96991361\n",
      " 0.9742833  0.97929768 0.98209142 0.97671885 0.98911165 0.99090251\n",
      " 0.9828794  0.99197698 0.99355295 0.88399279 0.77664965 0.70613176\n",
      " 0.66527098 0.6437844  0.6295011  0.61434364 0.59560108 0.57422823\n",
      " 0.55255443 0.53266037 0.5156669  0.50170892 0.49027541 0.48063013\n",
      " 0.47212335 0.46433735 0.45708841 0.45035234]\n",
      "19 day output [[0.44417146]]\n",
      "20 day input [0.82936709 0.8396824  0.83824974 0.84792036 0.84534152 0.83696032\n",
      " 0.83681707 0.82743294 0.83796319 0.81890849 0.83631564 0.84999776\n",
      " 0.85293479 0.85938184 0.86475441 0.86898087 0.87378035 0.87084337\n",
      " 0.88094378 0.88208996 0.88953988 0.88531349 0.88717599 0.89340814\n",
      " 0.89061441 0.88939664 0.89706151 0.89720481 0.89577209 0.89835093\n",
      " 0.90952586 0.91260615 0.93488442 0.93273537 0.93395314 0.95186172\n",
      " 0.94935458 0.94412531 0.95014257 0.95408248 0.94785022 0.96382475\n",
      " 0.96611699 0.96124591 0.96411124 0.97134627 0.9660454  0.97378192\n",
      " 0.97800831 0.98567314 0.98961304 0.98481355 0.98352419 0.98753569\n",
      " 0.98438377 0.98330919 1.         0.98388228 0.98173333 0.96726316\n",
      " 0.98309429 0.97270734 0.98302269 0.98653282 0.98653282 0.97987077\n",
      " 0.9785814  0.97750682 0.97277904 0.98173333 0.96991361 0.9742833\n",
      " 0.97929768 0.98209142 0.97671885 0.98911165 0.99090251 0.9828794\n",
      " 0.99197698 0.99355295 0.88399279 0.77664965 0.70613176 0.66527098\n",
      " 0.6437844  0.6295011  0.61434364 0.59560108 0.57422823 0.55255443\n",
      " 0.53266037 0.5156669  0.50170892 0.49027541 0.48063013 0.47212335\n",
      " 0.46433735 0.45708841 0.45035234 0.44417146]\n",
      "20 day output [[0.43858477]]\n",
      "21 day input [0.8396824  0.83824974 0.84792036 0.84534152 0.83696032 0.83681707\n",
      " 0.82743294 0.83796319 0.81890849 0.83631564 0.84999776 0.85293479\n",
      " 0.85938184 0.86475441 0.86898087 0.87378035 0.87084337 0.88094378\n",
      " 0.88208996 0.88953988 0.88531349 0.88717599 0.89340814 0.89061441\n",
      " 0.88939664 0.89706151 0.89720481 0.89577209 0.89835093 0.90952586\n",
      " 0.91260615 0.93488442 0.93273537 0.93395314 0.95186172 0.94935458\n",
      " 0.94412531 0.95014257 0.95408248 0.94785022 0.96382475 0.96611699\n",
      " 0.96124591 0.96411124 0.97134627 0.9660454  0.97378192 0.97800831\n",
      " 0.98567314 0.98961304 0.98481355 0.98352419 0.98753569 0.98438377\n",
      " 0.98330919 1.         0.98388228 0.98173333 0.96726316 0.98309429\n",
      " 0.97270734 0.98302269 0.98653282 0.98653282 0.97987077 0.9785814\n",
      " 0.97750682 0.97277904 0.98173333 0.96991361 0.9742833  0.97929768\n",
      " 0.98209142 0.97671885 0.98911165 0.99090251 0.9828794  0.99197698\n",
      " 0.99355295 0.88399279 0.77664965 0.70613176 0.66527098 0.6437844\n",
      " 0.6295011  0.61434364 0.59560108 0.57422823 0.55255443 0.53266037\n",
      " 0.5156669  0.50170892 0.49027541 0.48063013 0.47212335 0.46433735\n",
      " 0.45708841 0.45035234 0.44417146 0.43858477]\n",
      "21 day output [[0.43359432]]\n",
      "22 day input [0.83824974 0.84792036 0.84534152 0.83696032 0.83681707 0.82743294\n",
      " 0.83796319 0.81890849 0.83631564 0.84999776 0.85293479 0.85938184\n",
      " 0.86475441 0.86898087 0.87378035 0.87084337 0.88094378 0.88208996\n",
      " 0.88953988 0.88531349 0.88717599 0.89340814 0.89061441 0.88939664\n",
      " 0.89706151 0.89720481 0.89577209 0.89835093 0.90952586 0.91260615\n",
      " 0.93488442 0.93273537 0.93395314 0.95186172 0.94935458 0.94412531\n",
      " 0.95014257 0.95408248 0.94785022 0.96382475 0.96611699 0.96124591\n",
      " 0.96411124 0.97134627 0.9660454  0.97378192 0.97800831 0.98567314\n",
      " 0.98961304 0.98481355 0.98352419 0.98753569 0.98438377 0.98330919\n",
      " 1.         0.98388228 0.98173333 0.96726316 0.98309429 0.97270734\n",
      " 0.98302269 0.98653282 0.98653282 0.97987077 0.9785814  0.97750682\n",
      " 0.97277904 0.98173333 0.96991361 0.9742833  0.97929768 0.98209142\n",
      " 0.97671885 0.98911165 0.99090251 0.9828794  0.99197698 0.99355295\n",
      " 0.88399279 0.77664965 0.70613176 0.66527098 0.6437844  0.6295011\n",
      " 0.61434364 0.59560108 0.57422823 0.55255443 0.53266037 0.5156669\n",
      " 0.50170892 0.49027541 0.48063013 0.47212335 0.46433735 0.45708841\n",
      " 0.45035234 0.44417146 0.43858477 0.43359432]\n",
      "22 day output [[0.42916068]]\n",
      "23 day input [0.84792036 0.84534152 0.83696032 0.83681707 0.82743294 0.83796319\n",
      " 0.81890849 0.83631564 0.84999776 0.85293479 0.85938184 0.86475441\n",
      " 0.86898087 0.87378035 0.87084337 0.88094378 0.88208996 0.88953988\n",
      " 0.88531349 0.88717599 0.89340814 0.89061441 0.88939664 0.89706151\n",
      " 0.89720481 0.89577209 0.89835093 0.90952586 0.91260615 0.93488442\n",
      " 0.93273537 0.93395314 0.95186172 0.94935458 0.94412531 0.95014257\n",
      " 0.95408248 0.94785022 0.96382475 0.96611699 0.96124591 0.96411124\n",
      " 0.97134627 0.9660454  0.97378192 0.97800831 0.98567314 0.98961304\n",
      " 0.98481355 0.98352419 0.98753569 0.98438377 0.98330919 1.\n",
      " 0.98388228 0.98173333 0.96726316 0.98309429 0.97270734 0.98302269\n",
      " 0.98653282 0.98653282 0.97987077 0.9785814  0.97750682 0.97277904\n",
      " 0.98173333 0.96991361 0.9742833  0.97929768 0.98209142 0.97671885\n",
      " 0.98911165 0.99090251 0.9828794  0.99197698 0.99355295 0.88399279\n",
      " 0.77664965 0.70613176 0.66527098 0.6437844  0.6295011  0.61434364\n",
      " 0.59560108 0.57422823 0.55255443 0.53266037 0.5156669  0.50170892\n",
      " 0.49027541 0.48063013 0.47212335 0.46433735 0.45708841 0.45035234\n",
      " 0.44417146 0.43858477 0.43359432 0.42916068]\n",
      "23 day output [[0.42521772]]\n",
      "24 day input [0.84534152 0.83696032 0.83681707 0.82743294 0.83796319 0.81890849\n",
      " 0.83631564 0.84999776 0.85293479 0.85938184 0.86475441 0.86898087\n",
      " 0.87378035 0.87084337 0.88094378 0.88208996 0.88953988 0.88531349\n",
      " 0.88717599 0.89340814 0.89061441 0.88939664 0.89706151 0.89720481\n",
      " 0.89577209 0.89835093 0.90952586 0.91260615 0.93488442 0.93273537\n",
      " 0.93395314 0.95186172 0.94935458 0.94412531 0.95014257 0.95408248\n",
      " 0.94785022 0.96382475 0.96611699 0.96124591 0.96411124 0.97134627\n",
      " 0.9660454  0.97378192 0.97800831 0.98567314 0.98961304 0.98481355\n",
      " 0.98352419 0.98753569 0.98438377 0.98330919 1.         0.98388228\n",
      " 0.98173333 0.96726316 0.98309429 0.97270734 0.98302269 0.98653282\n",
      " 0.98653282 0.97987077 0.9785814  0.97750682 0.97277904 0.98173333\n",
      " 0.96991361 0.9742833  0.97929768 0.98209142 0.97671885 0.98911165\n",
      " 0.99090251 0.9828794  0.99197698 0.99355295 0.88399279 0.77664965\n",
      " 0.70613176 0.66527098 0.6437844  0.6295011  0.61434364 0.59560108\n",
      " 0.57422823 0.55255443 0.53266037 0.5156669  0.50170892 0.49027541\n",
      " 0.48063013 0.47212335 0.46433735 0.45708841 0.45035234 0.44417146\n",
      " 0.43858477 0.43359432 0.42916068 0.42521772]\n",
      "24 day output [[0.42169183]]\n",
      "25 day input [0.83696032 0.83681707 0.82743294 0.83796319 0.81890849 0.83631564\n",
      " 0.84999776 0.85293479 0.85938184 0.86475441 0.86898087 0.87378035\n",
      " 0.87084337 0.88094378 0.88208996 0.88953988 0.88531349 0.88717599\n",
      " 0.89340814 0.89061441 0.88939664 0.89706151 0.89720481 0.89577209\n",
      " 0.89835093 0.90952586 0.91260615 0.93488442 0.93273537 0.93395314\n",
      " 0.95186172 0.94935458 0.94412531 0.95014257 0.95408248 0.94785022\n",
      " 0.96382475 0.96611699 0.96124591 0.96411124 0.97134627 0.9660454\n",
      " 0.97378192 0.97800831 0.98567314 0.98961304 0.98481355 0.98352419\n",
      " 0.98753569 0.98438377 0.98330919 1.         0.98388228 0.98173333\n",
      " 0.96726316 0.98309429 0.97270734 0.98302269 0.98653282 0.98653282\n",
      " 0.97987077 0.9785814  0.97750682 0.97277904 0.98173333 0.96991361\n",
      " 0.9742833  0.97929768 0.98209142 0.97671885 0.98911165 0.99090251\n",
      " 0.9828794  0.99197698 0.99355295 0.88399279 0.77664965 0.70613176\n",
      " 0.66527098 0.6437844  0.6295011  0.61434364 0.59560108 0.57422823\n",
      " 0.55255443 0.53266037 0.5156669  0.50170892 0.49027541 0.48063013\n",
      " 0.47212335 0.46433735 0.45708841 0.45035234 0.44417146 0.43858477\n",
      " 0.43359432 0.42916068 0.42521772 0.42169183]\n",
      "25 day output [[0.41851816]]\n",
      "26 day input [0.83681707 0.82743294 0.83796319 0.81890849 0.83631564 0.84999776\n",
      " 0.85293479 0.85938184 0.86475441 0.86898087 0.87378035 0.87084337\n",
      " 0.88094378 0.88208996 0.88953988 0.88531349 0.88717599 0.89340814\n",
      " 0.89061441 0.88939664 0.89706151 0.89720481 0.89577209 0.89835093\n",
      " 0.90952586 0.91260615 0.93488442 0.93273537 0.93395314 0.95186172\n",
      " 0.94935458 0.94412531 0.95014257 0.95408248 0.94785022 0.96382475\n",
      " 0.96611699 0.96124591 0.96411124 0.97134627 0.9660454  0.97378192\n",
      " 0.97800831 0.98567314 0.98961304 0.98481355 0.98352419 0.98753569\n",
      " 0.98438377 0.98330919 1.         0.98388228 0.98173333 0.96726316\n",
      " 0.98309429 0.97270734 0.98302269 0.98653282 0.98653282 0.97987077\n",
      " 0.9785814  0.97750682 0.97277904 0.98173333 0.96991361 0.9742833\n",
      " 0.97929768 0.98209142 0.97671885 0.98911165 0.99090251 0.9828794\n",
      " 0.99197698 0.99355295 0.88399279 0.77664965 0.70613176 0.66527098\n",
      " 0.6437844  0.6295011  0.61434364 0.59560108 0.57422823 0.55255443\n",
      " 0.53266037 0.5156669  0.50170892 0.49027541 0.48063013 0.47212335\n",
      " 0.46433735 0.45708841 0.45035234 0.44417146 0.43858477 0.43359432\n",
      " 0.42916068 0.42521772 0.42169183 0.41851816]\n",
      "26 day output [[0.41564742]]\n",
      "27 day input [0.82743294 0.83796319 0.81890849 0.83631564 0.84999776 0.85293479\n",
      " 0.85938184 0.86475441 0.86898087 0.87378035 0.87084337 0.88094378\n",
      " 0.88208996 0.88953988 0.88531349 0.88717599 0.89340814 0.89061441\n",
      " 0.88939664 0.89706151 0.89720481 0.89577209 0.89835093 0.90952586\n",
      " 0.91260615 0.93488442 0.93273537 0.93395314 0.95186172 0.94935458\n",
      " 0.94412531 0.95014257 0.95408248 0.94785022 0.96382475 0.96611699\n",
      " 0.96124591 0.96411124 0.97134627 0.9660454  0.97378192 0.97800831\n",
      " 0.98567314 0.98961304 0.98481355 0.98352419 0.98753569 0.98438377\n",
      " 0.98330919 1.         0.98388228 0.98173333 0.96726316 0.98309429\n",
      " 0.97270734 0.98302269 0.98653282 0.98653282 0.97987077 0.9785814\n",
      " 0.97750682 0.97277904 0.98173333 0.96991361 0.9742833  0.97929768\n",
      " 0.98209142 0.97671885 0.98911165 0.99090251 0.9828794  0.99197698\n",
      " 0.99355295 0.88399279 0.77664965 0.70613176 0.66527098 0.6437844\n",
      " 0.6295011  0.61434364 0.59560108 0.57422823 0.55255443 0.53266037\n",
      " 0.5156669  0.50170892 0.49027541 0.48063013 0.47212335 0.46433735\n",
      " 0.45708841 0.45035234 0.44417146 0.43858477 0.43359432 0.42916068\n",
      " 0.42521772 0.42169183 0.41851816 0.41564742]\n",
      "27 day output [[0.41304654]]\n",
      "28 day input [0.83796319 0.81890849 0.83631564 0.84999776 0.85293479 0.85938184\n",
      " 0.86475441 0.86898087 0.87378035 0.87084337 0.88094378 0.88208996\n",
      " 0.88953988 0.88531349 0.88717599 0.89340814 0.89061441 0.88939664\n",
      " 0.89706151 0.89720481 0.89577209 0.89835093 0.90952586 0.91260615\n",
      " 0.93488442 0.93273537 0.93395314 0.95186172 0.94935458 0.94412531\n",
      " 0.95014257 0.95408248 0.94785022 0.96382475 0.96611699 0.96124591\n",
      " 0.96411124 0.97134627 0.9660454  0.97378192 0.97800831 0.98567314\n",
      " 0.98961304 0.98481355 0.98352419 0.98753569 0.98438377 0.98330919\n",
      " 1.         0.98388228 0.98173333 0.96726316 0.98309429 0.97270734\n",
      " 0.98302269 0.98653282 0.98653282 0.97987077 0.9785814  0.97750682\n",
      " 0.97277904 0.98173333 0.96991361 0.9742833  0.97929768 0.98209142\n",
      " 0.97671885 0.98911165 0.99090251 0.9828794  0.99197698 0.99355295\n",
      " 0.88399279 0.77664965 0.70613176 0.66527098 0.6437844  0.6295011\n",
      " 0.61434364 0.59560108 0.57422823 0.55255443 0.53266037 0.5156669\n",
      " 0.50170892 0.49027541 0.48063013 0.47212335 0.46433735 0.45708841\n",
      " 0.45035234 0.44417146 0.43858477 0.43359432 0.42916068 0.42521772\n",
      " 0.42169183 0.41851816 0.41564742 0.41304654]\n",
      "28 day output [[0.41069427]]\n",
      "29 day input [0.81890849 0.83631564 0.84999776 0.85293479 0.85938184 0.86475441\n",
      " 0.86898087 0.87378035 0.87084337 0.88094378 0.88208996 0.88953988\n",
      " 0.88531349 0.88717599 0.89340814 0.89061441 0.88939664 0.89706151\n",
      " 0.89720481 0.89577209 0.89835093 0.90952586 0.91260615 0.93488442\n",
      " 0.93273537 0.93395314 0.95186172 0.94935458 0.94412531 0.95014257\n",
      " 0.95408248 0.94785022 0.96382475 0.96611699 0.96124591 0.96411124\n",
      " 0.97134627 0.9660454  0.97378192 0.97800831 0.98567314 0.98961304\n",
      " 0.98481355 0.98352419 0.98753569 0.98438377 0.98330919 1.\n",
      " 0.98388228 0.98173333 0.96726316 0.98309429 0.97270734 0.98302269\n",
      " 0.98653282 0.98653282 0.97987077 0.9785814  0.97750682 0.97277904\n",
      " 0.98173333 0.96991361 0.9742833  0.97929768 0.98209142 0.97671885\n",
      " 0.98911165 0.99090251 0.9828794  0.99197698 0.99355295 0.88399279\n",
      " 0.77664965 0.70613176 0.66527098 0.6437844  0.6295011  0.61434364\n",
      " 0.59560108 0.57422823 0.55255443 0.53266037 0.5156669  0.50170892\n",
      " 0.49027541 0.48063013 0.47212335 0.46433735 0.45708841 0.45035234\n",
      " 0.44417146 0.43858477 0.43359432 0.42916068 0.42521772 0.42169183\n",
      " 0.41851816 0.41564742 0.41304654 0.41069427]\n",
      "29 day output [[0.40857628]]\n",
      "[[0.8839927911758423], [0.7766496539115906], [0.7061317563056946], [0.665270984172821], [0.6437844038009644], [0.6295011043548584], [0.6143436431884766], [0.5956010818481445], [0.5742282271385193], [0.5525544285774231], [0.5326603651046753], [0.5156669020652771], [0.5017089247703552], [0.49027541279792786], [0.48063012957572937], [0.4721233546733856], [0.4643373489379883], [0.4570884108543396], [0.45035234093666077], [0.4441714584827423], [0.4385847747325897], [0.43359431624412537], [0.4291606843471527], [0.42521771788597107], [0.4216918349266052], [0.41851815581321716], [0.4156474173069], [0.41304653882980347], [0.41069427132606506], [0.40857627987861633]]\n"
     ]
    }
   ],
   "source": [
    "# demonstrate prediction for next 30 days\n",
    "from numpy import array\n",
    "\n",
    "lst_output=[]\n",
    "n_steps=100\n",
    "i=0\n",
    "while(i<30):\n",
    "    \n",
    "    if(len(temp_input)>100):\n",
    "        #print(temp_input)\n",
    "        x_input=np.array(temp_input[1:])\n",
    "        print(\"{} day input {}\".format(i,x_input))\n",
    "        x_input=x_input.reshape(1,-1)\n",
    "        x_input = x_input.reshape((1, n_steps, 1))\n",
    "        #print(x_input)\n",
    "        yhat = model.predict(x_input, verbose=0)\n",
    "        print(\"{} day output {}\".format(i,yhat))\n",
    "        temp_input.extend(yhat[0].tolist())\n",
    "        temp_input=temp_input[1:]\n",
    "        #print(temp_input)\n",
    "        lst_output.extend(yhat.tolist())\n",
    "        i=i+1\n",
    "    else:\n",
    "        x_input = x_input.reshape((1, n_steps,1))\n",
    "        yhat = model.predict(x_input, verbose=0)\n",
    "        print(yhat[0])\n",
    "        temp_input.extend(yhat[0].tolist())\n",
    "        print(len(temp_input))\n",
    "        lst_output.extend(yhat.tolist())\n",
    "        i=i+1\n",
    "    \n",
    "\n",
    "print(lst_output)"
   ]
  },
  {
   "cell_type": "code",
   "execution_count": 102,
   "metadata": {},
   "outputs": [],
   "source": [
    "day_new=np.arange(1,101)\n",
    "day_pred=np.arange(101,131)"
   ]
  },
  {
   "cell_type": "code",
   "execution_count": 103,
   "metadata": {},
   "outputs": [],
   "source": [
    "import matplotlib.pyplot as plt"
   ]
  },
  {
   "cell_type": "code",
   "execution_count": 104,
   "metadata": {},
   "outputs": [
    {
     "data": {
      "text/plain": [
       "14793"
      ]
     },
     "execution_count": 104,
     "metadata": {},
     "output_type": "execute_result"
    }
   ],
   "source": [
    "len(df1)"
   ]
  },
  {
   "cell_type": "code",
   "execution_count": 105,
   "metadata": {},
   "outputs": [
    {
     "data": {
      "text/plain": [
       "[<matplotlib.lines.Line2D at 0x1428f79a0>]"
      ]
     },
     "execution_count": 105,
     "metadata": {},
     "output_type": "execute_result"
    },
    {
     "data": {
      "image/png": "[encoded data removed]",
      "text/plain": [
       "<Figure size 432x288 with 1 Axes>"
      ]
     },
     "metadata": {
      "needs_background": "light"
     },
     "output_type": "display_data"
    }
   ],
   "source": [
    "plt.plot(day_new,scaler.inverse_transform(df1[14693:]))\n",
    "plt.plot(day_pred,scaler.inverse_transform(lst_output))"
   ]
  },
  {
   "cell_type": "code",
   "execution_count": 106,
   "metadata": {},
   "outputs": [
    {
     "data": {
      "text/plain": [
       "[<matplotlib.lines.Line2D at 0x141e3aa00>]"
      ]
     },
     "execution_count": 106,
     "metadata": {},
     "output_type": "execute_result"
    },
    {
     "data": {
      "image/png": "[encoded data removed]",
      "text/plain": [
       "<Figure size 432x288 with 1 Axes>"
      ]
     },
     "metadata": {
      "needs_background": "light"
     },
     "output_type": "display_data"
    }
   ],
   "source": [
    "df3=df1.tolist()\n",
    "df3.extend(lst_output)\n",
    "plt.plot(df3[1200:])"
   ]
  },
  {
   "cell_type": "code",
   "execution_count": 107,
   "metadata": {},
   "outputs": [],
   "source": [
    "df3=scaler.inverse_transform(df3).tolist()"
   ]
  },
  {
   "cell_type": "code",
   "execution_count": 108,
   "metadata": {},
   "outputs": [
    {
     "data": {
      "text/plain": [
       "[<matplotlib.lines.Line2D at 0x141e2bd90>]"
      ]
     },
     "execution_count": 108,
     "metadata": {},
     "output_type": "execute_result"
    },
    {
     "data": {
      "image/png": "[encoded data removed]",
      "text/plain": [
       "<Figure size 432x288 with 1 Axes>"
      ]
     },
     "metadata": {
      "needs_background": "light"
     },
     "output_type": "display_data"
    }
   ],
   "source": [
    "plt.plot(df3)"
   ]
  },
  {
   "cell_type": "code",
   "execution_count": null,
   "metadata": {},
   "outputs": [],
   "source": []
  }
 ],
 "metadata": {
  "kernelspec": {
   "display_name": "Python 3",
   "language": "python",
   "name": "python3"
  },
  "language_info": {
   "codemirror_mode": {
    "name": "ipython",
    "version": 3
   },
   "file_extension": ".py",
   "mimetype": "text/x-python",
   "name": "python",
   "nbconvert_exporter": "python",
   "pygments_lexer": "ipython3",
   "version": "3.8.3"
  }
 },
 "nbformat": 4,
 "nbformat_minor": 4
}
